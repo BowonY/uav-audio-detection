{
 "cells": [
  {
   "cell_type": "code",
   "execution_count": 1,
   "metadata": {},
   "outputs": [
    {
     "data": {
      "text/html": [
       "<script>requirejs.config({paths: { 'plotly': ['https://cdn.plot.ly/plotly-latest.min']},});if(!window.Plotly) {{require(['plotly'],function(plotly) {window.Plotly=plotly;});}}</script>"
      ],
      "text/vnd.plotly.v1+html": [
       "<script>requirejs.config({paths: { 'plotly': ['https://cdn.plot.ly/plotly-latest.min']},});if(!window.Plotly) {{require(['plotly'],function(plotly) {window.Plotly=plotly;});}}</script>"
      ]
     },
     "metadata": {},
     "output_type": "display_data"
    }
   ],
   "source": [
    "import os\n",
    "from os.path import isdir, join\n",
    "from pathlib import Path\n",
    "import pandas as pd\n",
    "\n",
    "import tensorflow as tf\n",
    "# Math\n",
    "import numpy as np\n",
    "from scipy.fftpack import fft\n",
    "from scipy import signal\n",
    "from scipy.io import wavfile\n",
    "import librosa\n",
    "\n",
    "from sklearn.decomposition import PCA\n",
    "\n",
    "# Visualization\n",
    "import matplotlib.pyplot as plt\n",
    "import seaborn as sns\n",
    "import IPython.display as ipd\n",
    "import librosa.display\n",
    "\n",
    "import plotly.offline as py\n",
    "py.init_notebook_mode(connected=True)\n",
    "import plotly.graph_objs as go\n",
    "import plotly.tools as tls\n",
    "import pandas as pd\n",
    "\n",
    "%matplotlib inline"
   ]
  },
  {
   "cell_type": "code",
   "execution_count": 2,
   "metadata": {},
   "outputs": [],
   "source": [
    "import glob\n",
    "uav_path = '../data/phantom/JUNE_01_PHANTOMS/wavs/*.wav'\n",
    "none_path = '../data/phantom/JUNE_02_BACKGROUND/wavs/background/background_0*.wav'\n",
    "uav_files = glob.glob(uav_path)\n",
    "none_files = glob.glob(none_path)"
   ]
  },
  {
   "cell_type": "code",
   "execution_count": 3,
   "metadata": {
    "scrolled": true
   },
   "outputs": [
    {
     "name": "stdout",
     "output_type": "stream",
     "text": [
      "11 개\t ../data/phantom/JUNE_01_PHANTOMS/wavs\\P1_stationary.wav\n",
      "21 개\t ../data/phantom/JUNE_02_BACKGROUND/wavs/background\\background_06_02_01.wav\n"
     ]
    }
   ],
   "source": [
    "print(len(uav_files),'개\\t', uav_files[0])\n",
    "print(len(none_files), '개\\t',none_files[0])"
   ]
  },
  {
   "cell_type": "markdown",
   "metadata": {},
   "source": [
    "# Load Data\n",
    "\n",
    "The reason of why SR is 44100 is that the sample rate of above files is 44.1kbps\n",
    "\n",
    "a wav file sample has 884736. if sample is divided by sample rate, the value is time\n",
    "the time is fixed by 20.06"
   ]
  },
  {
   "cell_type": "code",
   "execution_count": 4,
   "metadata": {},
   "outputs": [],
   "source": [
    "def loadSample(files,sample_rate):\n",
    "    [sample_np, sample_rate] = librosa.load(files[0],sample_rate)\n",
    "    print(len(sample_np), sample_rate, files[0])\n",
    "    for f in files[1:]:\n",
    "        [sample, sample_rate] = librosa.load(f,sample_rate)\n",
    "        sample_np = np.hstack((sample_np, sample))\n",
    "    return sample_np, sample_rate"
   ]
  },
  {
   "cell_type": "code",
   "execution_count": 5,
   "metadata": {},
   "outputs": [
    {
     "name": "stdout",
     "output_type": "stream",
     "text": [
      "884736 44100 ../data/phantom/JUNE_01_PHANTOMS/wavs\\P1_stationary.wav\n",
      "884736 44100 ../data/phantom/JUNE_02_BACKGROUND/wavs/background\\background_06_02_01.wav\n",
      "(9732096,) (18579456,)\n"
     ]
    }
   ],
   "source": [
    "SR = 44100\n",
    "uav_sample, uav_sample_rate = loadSample(uav_files,SR )\n",
    "none_sample, none_sample_rate = loadSample(none_files,SR)\n",
    "\n",
    "print(uav_sample.shape,none_sample.shape )\n",
    "combine = [[uav_sample,uav_path,uav_sample_rate],[none_sample,none_path,none_sample_rate]]"
   ]
  },
  {
   "cell_type": "markdown",
   "metadata": {},
   "source": [
    "# Feature extraction \n",
    "## steps\n",
    "#### 1. Resampling \n",
    "#### 2. *VAD*( Voice Activity Detection)\n",
    "#### 3. Maybe padding with 0 to make signals be equal length\n",
    "#### 4. Log spectrogram (or *MFCC*, or *PLP*)\n",
    "#### 5. Features normalization with *mean* and *std*\n",
    "#### 6. Stacking of a given number of frames to get temporal information\n",
    "\n"
   ]
  },
  {
   "cell_type": "markdown",
   "metadata": {},
   "source": [
    "## 1. Resampling\n",
    "\n",
    "if you see the graph, there are few at high frequency. this is mean that data is big but it's no useless. so To small the data, do Resampling. In general, use 0~8000Hz "
   ]
  },
  {
   "cell_type": "code",
   "execution_count": 6,
   "metadata": {},
   "outputs": [],
   "source": [
    "def log_specgram(audio, sample_rate, window_size=20,\n",
    "                 step_size=10, eps=1e-10):\n",
    "    nperseg = int(round(window_size * sample_rate / 1e3))\n",
    "    noverlap = int(round(step_size * sample_rate / 1e3))\n",
    "    freqs, times, spec = signal.spectrogram(audio,\n",
    "                                    fs=sample_rate,\n",
    "                                    window='hann',\n",
    "                                    nperseg=nperseg,\n",
    "                                    noverlap=noverlap,\n",
    "                                    detrend=False)\n",
    "    return freqs, times, np.log(spec.T.astype(np.float32) + eps)"
   ]
  },
  {
   "cell_type": "code",
   "execution_count": 7,
   "metadata": {},
   "outputs": [],
   "source": [
    "def showFreqTime(combine):\n",
    "    for sample, filename, _ in combine:\n",
    "        freqs, times, spectrogram = log_specgram(sample, SR)\n",
    "        fig = plt.figure(figsize=(14, 10))\n",
    "        ax1 = fig.add_subplot(211)\n",
    "        ax1.set_title('Raw wave of ' + filename)\n",
    "        ax1.set_ylabel('Amplitude')\n",
    "        ax1.plot(np.linspace(0, len(sample)/SR, len(sample)), sample)\n",
    "\n",
    "        ax2 = fig.add_subplot(212)\n",
    "        ax2.imshow(spectrogram.T, aspect='auto', origin='lower', \n",
    "               extent=[times.min(), times.max(), freqs.min(), freqs.max()])\n",
    "        ax2.set_yticks(freqs[::16])\n",
    "        ax2.set_xticks(times[::16])\n",
    "        ax2.set_title('Spectrogram of ' + filename)\n",
    "        ax2.set_ylabel('Freqs in Hz')\n",
    "        ax2.set_xlabel('Seconds')"
   ]
  },
  {
   "cell_type": "code",
   "execution_count": 8,
   "metadata": {
    "scrolled": true
   },
   "outputs": [],
   "source": [
    "#showFreqTime(combine)"
   ]
  },
  {
   "cell_type": "code",
   "execution_count": 9,
   "metadata": {},
   "outputs": [],
   "source": [
    "def custom_fft(y, fs):\n",
    "    T = 1.0 / fs\n",
    "    N = y.shape[0]\n",
    "    yf = fft(y)\n",
    "    xf = np.linspace(0.0, 1.0/(2.0*T), N//2)\n",
    "    vals = 2.0/N * np.abs(yf[0:N//2])  # FFT is simmetrical, so we take just the first half\n",
    "    # FFT is also complex, to we take just the real part (abs)\n",
    "    return xf, vals"
   ]
  },
  {
   "cell_type": "code",
   "execution_count": 10,
   "metadata": {},
   "outputs": [],
   "source": [
    "new_sample_rate = combine[0][2]  #/4\n",
    "combine_prev = combine[:]\n",
    "\n",
    "combine = []\n",
    "for samples, path, sample_rate in combine_prev:\n",
    "    resampled = signal.resample(samples, int(new_sample_rate/sample_rate * samples.shape[0]))\n",
    "    combine.append([resampled,path,new_sample_rate])"
   ]
  },
  {
   "cell_type": "code",
   "execution_count": 11,
   "metadata": {},
   "outputs": [
    {
     "data": {
      "image/png": "[encoded data removed]",
      "text/plain": [
       "<Figure size 864x288 with 1 Axes>"
      ]
     },
     "metadata": {},
     "output_type": "display_data"
    },
    {
     "data": {
      "image/png": "[encoded data removed]",
      "text/plain": [
       "<Figure size 864x288 with 1 Axes>"
      ]
     },
     "metadata": {},
     "output_type": "display_data"
    }
   ],
   "source": [
    "for samples, path, sample_rate in [combine_prev[0],combine[0]]:\n",
    "    xf, vals = custom_fft(samples, sample_rate)\n",
    "    plt.figure(figsize=(12, 4))\n",
    "    plt.title('FFT of recording sampled with ' + str(sample_rate) + ' Hz')\n",
    "    plt.plot(xf, vals)\n",
    "    plt.xlabel('Frequency')\n",
    "    plt.grid()\n",
    "    plt.show()"
   ]
  },
  {
   "cell_type": "markdown",
   "metadata": {},
   "source": [
    "### Data diffrence\n",
    "\n",
    "qualiy is diffrence but, the data is almost same."
   ]
  },
  {
   "cell_type": "code",
   "execution_count": 12,
   "metadata": {},
   "outputs": [],
   "source": [
    "#ipd.Audio(combine_prev[0][0], rate=combine_prev[0][2])"
   ]
  },
  {
   "cell_type": "code",
   "execution_count": 13,
   "metadata": {},
   "outputs": [],
   "source": [
    "#ipd.Audio(combine[0][0], rate=combine[0][2])"
   ]
  },
  {
   "cell_type": "markdown",
   "metadata": {},
   "source": [
    "## 2. VAD\n",
    "\n",
    "Sometimes, Files have silence. It is not necessary. So, We need to find sound of Drone except silence.\n",
    "\n",
    "But, Not yet implemented"
   ]
  },
  {
   "cell_type": "markdown",
   "metadata": {},
   "source": [
    "## 3. padding with 0 to make signals be equal length\n",
    "\n",
    "If we have a lot of sound files, we need to pad some datas. But These files's time is longger than 1 second. So It dosn't need to pad"
   ]
  },
  {
   "cell_type": "markdown",
   "metadata": {},
   "source": [
    "## 4. Log spectrogram (or MFCC, or PLP)\n",
    "\n",
    "The upper picture is resampled data. \n",
    "The lower picture is original data.\n",
    "\n",
    "In MFCC Feature, There is no big difference. "
   ]
  },
  {
   "cell_type": "code",
   "execution_count": 14,
   "metadata": {},
   "outputs": [],
   "source": [
    "from scipy.stats import skew\n",
    "#returns mfcc features with mean and standard deviation along time\n",
    "def get_mfcc(b):\n",
    "    ft1 = librosa.feature.mfcc(b, sr = SR, n_mfcc=20)\n",
    "    ft2 = librosa.feature.zero_crossing_rate(b)[0]\n",
    "    ft3 = librosa.feature.spectral_rolloff(b)[0]\n",
    "    ft4 = librosa.feature.spectral_centroid(b)[0]\n",
    "    ft5 = librosa.feature.spectral_contrast(b)[0]\n",
    "    ft6 = librosa.feature.spectral_bandwidth(b)[0]\n",
    "    ft1_trunc = np.hstack((np.mean(ft1, axis=1), np.std(ft1, axis=1), skew(ft1, axis = 1), np.max(ft1, axis = 1), np.min(ft1, axis = 1)))\n",
    "    ft2_trunc = np.hstack((np.mean(ft2), np.std(ft2), skew(ft2), np.max(ft2), np.min(ft2)))\n",
    "    ft3_trunc = np.hstack((np.mean(ft3), np.std(ft3), skew(ft3), np.max(ft3), np.min(ft3)))\n",
    "    ft4_trunc = np.hstack((np.mean(ft4), np.std(ft4), skew(ft4), np.max(ft4), np.min(ft4)))\n",
    "    ft5_trunc = np.hstack((np.mean(ft5), np.std(ft5), skew(ft5), np.max(ft5), np.min(ft5)))\n",
    "    ft6_trunc = np.hstack((np.mean(ft6), np.std(ft6), skew(ft6), np.max(ft6), np.min(ft6)))\n",
    "    #print(len(ft1_trunc),len(ft2_trunc),len(ft3_trunc),len(ft4_trunc),len(ft5_trunc),len(ft6_trunc))\n",
    "    return pd.Series(np.hstack((ft1_trunc, ft2_trunc, ft3_trunc, ft4_trunc, ft5_trunc, ft6_trunc)))\n",
    "def mfcc(raw, chunk_size=8192, sr=44100, n_mfcc=13):\n",
    "    mfcc = np.empty((13, 0))\n",
    "    for i in range(0, len(raw), chunk_size):\n",
    "        mfcc_slice = librosa.feature.mfcc(raw[i:i+chunk_size], sr=sr, n_mfcc=n_mfcc)\n",
    "        mfcc = np.hstack((mfcc, mfcc_slice))\n",
    "    return mfcc\n",
    "def mfcc2(raw, label, chunk_size=8192, sr=44100, n_mfcc=13):\n",
    "    mfcc = np.empty((0, n_mfcc, 17))\n",
    "    y = []\n",
    "    for i in range(0, len(raw), chunk_size):\n",
    "        mfcc_slice = librosa.feature.mfcc(raw[i:i+chunk_size], sr=sr, n_mfcc=n_mfcc)\n",
    "        mfcc_slice = mfcc_slice.reshape((1,n_mfcc,17))\n",
    "        mfcc = np.vstack((mfcc, mfcc_slice))\n",
    "        y.append(label)\n",
    "    y = np.array(y)\n",
    "    return mfcc, y\n",
    "def mfcc3(raw, label, chunk_size=8192, sr=44100, n_mfcc=13):\n",
    "    mfcc = np.empty((n_mfcc*17, 0))\n",
    "    y = []\n",
    "    for i in range(0, len(raw), chunk_size):\n",
    "        mfcc_slice = librosa.feature.mfcc(raw[i:i+chunk_size], sr=sr, n_mfcc=n_mfcc)\n",
    "        #print(mfcc_slice)\n",
    "        mfcc_slice = mfcc_slice.reshape((n_mfcc*17, 1)) #mfcc_slice.reshape((1,n_mfcc,17))\n",
    "        #print(mfcc_slice)\n",
    "        mfcc = np.hstaack((mfcc, mfcc_slice))\n",
    "        y.append(label)\n",
    "    y = np.array(y)\n",
    "    return mfcc, y\n",
    "def mfcc4(raw, label, chunk_size=8192, window_size=4096, sr=44100, n_mfcc=16, n_frame=16):\n",
    "    mfcc = np.empty((0, n_mfcc, n_frame))\n",
    "    y = []\n",
    "    print(raw.shape)\n",
    "    for i in range(0, len(raw), chunk_size//2):\n",
    "        mfcc_slice = librosa.feature.mfcc(raw[i:i+chunk_size], sr=sr, n_mfcc=n_mfcc) #n_mfcc,17\n",
    "        if mfcc_slice.shape[1] < 17:\n",
    "            print(\"small end:\", mfcc_slice.shape)\n",
    "            continue\n",
    "        mfcc_slice = mfcc_slice[:,:-1]\n",
    "        mfcc_slice = mfcc_slice.reshape((1, mfcc_slice.shape[0], mfcc_slice.shape[1]))\n",
    "        mfcc = np.vstack((mfcc, mfcc_slice))\n",
    "        y.append(label)\n",
    "    y = np.array(y)\n",
    "    return mfcc, y\n",
    "\n",
    "def log_specgram(audio, sample_rate, window_size=20,\n",
    "                 step_size=10, eps=1e-10):\n",
    "    nperseg = int(round(window_size * sample_rate / 1e3))\n",
    "    noverlap = int(round(step_size * sample_rate / 1e3))\n",
    "    freqs, times, spec = signal.spectrogram(audio,\n",
    "                                    fs=sample_rate,\n",
    "                                    window='hann',\n",
    "                                    nperseg=nperseg,\n",
    "                                    noverlap=noverlap,\n",
    "                                    detrend=False)\n",
    "    return freqs, times, np.log(spec.T.astype(np.float32) + eps)"
   ]
  },
  {
   "cell_type": "code",
   "execution_count": 15,
   "metadata": {},
   "outputs": [],
   "source": [
    "#use spectrogram\n",
    "spectro_combine = []\n",
    "for sample,path,sample_rate in combine:\n",
    "    freqs, times, spectrogram = log_specgram(sample, sample_rate)\n",
    "    spectro_combine.append([freqs, times, spectrogram ])\n",
    "spectro_combine_tmp = spectro_combine"
   ]
  },
  {
   "cell_type": "code",
   "execution_count": 16,
   "metadata": {},
   "outputs": [
    {
     "data": {
      "text/plain": [
       "'\\nmfcc_combine = []\\nframesize = 8192\\nfor sample,path,sample_rate in combine:\\n    #sample = sample[:8192*1] \\n    _mfcc = mfcc(sample)\\n    mfcc_combine.append(_mfcc.T)\\n'"
      ]
     },
     "execution_count": 16,
     "metadata": {},
     "output_type": "execute_result"
    }
   ],
   "source": [
    "'''\n",
    "mfcc_combine = []\n",
    "framesize = 8192\n",
    "for sample,path,sample_rate in combine:\n",
    "    #sample = sample[:8192*1] \n",
    "    _mfcc = mfcc(sample)\n",
    "    mfcc_combine.append(_mfcc.T)\n",
    "'''"
   ]
  },
  {
   "cell_type": "code",
   "execution_count": 17,
   "metadata": {
    "scrolled": false
   },
   "outputs": [
    {
     "data": {
      "text/plain": [
       "'\\nmfcc_combine = []\\nframesize = 8192\\nfor sample,path,sample_rate in combine:\\n    #sample = sample[:8192*1] \\n    _mfccs = np.zeros(shape=[0,20],dtype=float)\\n    for i in range(0,int(len(sample)),framesize):\\n        S = librosa.feature.melspectrogram(sample[i:i+framesize], sr=sample_rate, n_mels=128)\\n        log_S = librosa.power_to_db(S, ref=np.max)\\n        mfcc = librosa.feature.mfcc(S=log_S, n_mfcc=20)\\n        delta2_mfcc = librosa.feature.delta(mfcc, order=2)\\n        delta2_mfcc = delta2_mfcc.T \\n        _mfccs = np.vstack((_mfccs,delta2_mfcc[:]))\\n    print(_mfccs.shape)\\n    mfcc_combine.append(_mfccs)\\n'"
      ]
     },
     "execution_count": 17,
     "metadata": {},
     "output_type": "execute_result"
    }
   ],
   "source": [
    "'''\n",
    "mfcc_combine = []\n",
    "framesize = 8192\n",
    "for sample,path,sample_rate in combine:\n",
    "    #sample = sample[:8192*1] \n",
    "    _mfccs = np.zeros(shape=[0,20],dtype=float)\n",
    "    for i in range(0,int(len(sample)),framesize):\n",
    "        S = librosa.feature.melspectrogram(sample[i:i+framesize], sr=sample_rate, n_mels=128)\n",
    "        log_S = librosa.power_to_db(S, ref=np.max)\n",
    "        mfcc = librosa.feature.mfcc(S=log_S, n_mfcc=20)\n",
    "        delta2_mfcc = librosa.feature.delta(mfcc, order=2)\n",
    "        delta2_mfcc = delta2_mfcc.T \n",
    "        _mfccs = np.vstack((_mfccs,delta2_mfcc[:]))\n",
    "    print(_mfccs.shape)\n",
    "    mfcc_combine.append(_mfccs)\n",
    "'''"
   ]
  },
  {
   "cell_type": "code",
   "execution_count": 18,
   "metadata": {},
   "outputs": [
    {
     "data": {
      "text/plain": [
       "'\\nmfcc_combine = []\\nframesize = 4096\\n_mfccs = np.zeros(shape=[0, 125],dtype=float)\\nfor sample,path,sample_rate in combine:\\n    for i in range(0,int(len(sample)),framesize):\\n        _mfccs = np.vstack((_mfccs,get_mfcc(sample[i:i+framesize])))\\n    mfcc_combine.append(_mfccs)\\n    print(_mfccs.shape)\\n'"
      ]
     },
     "execution_count": 18,
     "metadata": {},
     "output_type": "execute_result"
    }
   ],
   "source": [
    "'''\n",
    "mfcc_combine = []\n",
    "framesize = 4096\n",
    "_mfccs = np.zeros(shape=[0, 125],dtype=float)\n",
    "for sample,path,sample_rate in combine:\n",
    "    for i in range(0,int(len(sample)),framesize):\n",
    "        _mfccs = np.vstack((_mfccs,get_mfcc(sample[i:i+framesize])))\n",
    "    mfcc_combine.append(_mfccs)\n",
    "    print(_mfccs.shape)\n",
    "'''"
   ]
  },
  {
   "cell_type": "code",
   "execution_count": 19,
   "metadata": {},
   "outputs": [
    {
     "data": {
      "text/plain": [
       "'\\nfor sample,path,sample_rate in combine:\\n    mfcc_uav, y_uav = mfcc4(uav_raw, 1)\\n    \\n    mfcc_none, y_none = mfcc4(none_raw, 0)\\n    mfcc_combine.append(_mfcc)\\n'"
      ]
     },
     "execution_count": 19,
     "metadata": {},
     "output_type": "execute_result"
    }
   ],
   "source": [
    "'''\n",
    "mfcc_combine = []\n",
    "\n",
    "#_mfccs = np.zeros(shape=[20, 0],dtype=float)\n",
    "#np.vstack  Stack arrays in sequence vertically\n",
    "#np.hstack  Split array along second axis.\n",
    "\n",
    "'''\n",
    "'''\n",
    "\n",
    "mfcc_uav , y_uav = mfcc4(combine[0][0], 1)\n",
    "print(mfcc_uav.shape, y_uav.shape)\n",
    "mfcc_none, y_none = mfcc4(combine[1][0], 0)\n",
    "print(mfcc_none.shape, y_none.shape)\n",
    "'''\n",
    "'''\n",
    "for sample,path,sample_rate in combine:\n",
    "    mfcc_uav, y_uav = mfcc4(uav_raw, 1)\n",
    "    \n",
    "    mfcc_none, y_none = mfcc4(none_raw, 0)\n",
    "    mfcc_combine.append(_mfcc)\n",
    "'''"
   ]
  },
  {
   "cell_type": "code",
   "execution_count": 20,
   "metadata": {},
   "outputs": [
    {
     "data": {
      "text/plain": [
       "\"\\nmfcc_combine = []\\nfor sample,path,sample_rate in combine:\\n    S = librosa.feature.melspectrogram(sample, sr=sample_rate, n_mels=128)\\n    # Convert to log scale (dB). We'll use the peak power (max) as reference.\\n    log_S = librosa.power_to_db(S, ref=np.max)\\n    mfcc = librosa.feature.mfcc(S=log_S, n_mfcc=13)\\n\\n    # Let's pad on the first and second deltas while we're at it\\n    delta2_mfcc = librosa.feature.delta(mfcc, order=2)\\n    mfcc_combine.append(delta2_mfcc)\\n    \\n    plt.figure(figsize=(12, 4))\\n    librosa.display.specshow(delta2_mfcc[ : ,int(delta2_mfcc.shape[1]*0.025) :int(delta2_mfcc.shape[1]*0.030)])\\n    plt.ylabel('MFCC coeffs')\\n    plt.xlabel('Time')\\n    plt.title('MFCC'+path)\\n    plt.colorbar()\\n    plt.tight_layout()\\n    print(delta2_mfcc.shape , sample_rate,int(delta2_mfcc.shape[1]*0.01))\\n\""
      ]
     },
     "execution_count": 20,
     "metadata": {},
     "output_type": "execute_result"
    }
   ],
   "source": [
    "'''\n",
    "mfcc_combine = []\n",
    "for sample,path,sample_rate in combine:\n",
    "    S = librosa.feature.melspectrogram(sample, sr=sample_rate, n_mels=128)\n",
    "    # Convert to log scale (dB). We'll use the peak power (max) as reference.\n",
    "    log_S = librosa.power_to_db(S, ref=np.max)\n",
    "    mfcc = librosa.feature.mfcc(S=log_S, n_mfcc=13)\n",
    "\n",
    "    # Let's pad on the first and second deltas while we're at it\n",
    "    delta2_mfcc = librosa.feature.delta(mfcc, order=2)\n",
    "    mfcc_combine.append(delta2_mfcc)\n",
    "    \n",
    "    plt.figure(figsize=(12, 4))\n",
    "    librosa.display.specshow(delta2_mfcc[ : ,int(delta2_mfcc.shape[1]*0.025) :int(delta2_mfcc.shape[1]*0.030)])\n",
    "    plt.ylabel('MFCC coeffs')\n",
    "    plt.xlabel('Time')\n",
    "    plt.title('MFCC'+path)\n",
    "    plt.colorbar()\n",
    "    plt.tight_layout()\n",
    "    print(delta2_mfcc.shape , sample_rate,int(delta2_mfcc.shape[1]*0.01))\n",
    "'''"
   ]
  },
  {
   "cell_type": "code",
   "execution_count": 21,
   "metadata": {},
   "outputs": [
    {
     "data": {
      "text/plain": [
       "\"\\nfor sample,path,sample_rate in combine_prev:\\n    S = librosa.feature.melspectrogram(sample, sr=sample_rate, n_mels=128)\\n    # Convert to log scale (dB). We'll use the peak power (max) as reference.\\n    log_S = librosa.power_to_db(S, ref=np.max)\\n    mfcc = librosa.feature.mfcc(S=log_S, n_mfcc=13)\\n\\n    # Let's pad on the first and second deltas while we're at it\\n    delta2_mfcc = librosa.feature.delta(mfcc, order=2)\\n    \\n    plt.figure(figsize=(12, 4))\\n    librosa.display.specshow(delta2_mfcc[ : ,int(delta2_mfcc.shape[1]*0.025) :int(delta2_mfcc.shape[1]*0.030)])\\n    plt.ylabel('MFCC coeffs')\\n    plt.xlabel('Time')\\n    plt.title('MFCC'+path)\\n    plt.colorbar()\\n    plt.tight_layout()\\n    print(delta2_mfcc.shape , sample_rate,int(delta2_mfcc.shape[1]*0.01))\\n\""
      ]
     },
     "execution_count": 21,
     "metadata": {},
     "output_type": "execute_result"
    }
   ],
   "source": [
    "'''\n",
    "for sample,path,sample_rate in combine_prev:\n",
    "    S = librosa.feature.melspectrogram(sample, sr=sample_rate, n_mels=128)\n",
    "    # Convert to log scale (dB). We'll use the peak power (max) as reference.\n",
    "    log_S = librosa.power_to_db(S, ref=np.max)\n",
    "    mfcc = librosa.feature.mfcc(S=log_S, n_mfcc=13)\n",
    "\n",
    "    # Let's pad on the first and second deltas while we're at it\n",
    "    delta2_mfcc = librosa.feature.delta(mfcc, order=2)\n",
    "    \n",
    "    plt.figure(figsize=(12, 4))\n",
    "    librosa.display.specshow(delta2_mfcc[ : ,int(delta2_mfcc.shape[1]*0.025) :int(delta2_mfcc.shape[1]*0.030)])\n",
    "    plt.ylabel('MFCC coeffs')\n",
    "    plt.xlabel('Time')\n",
    "    plt.title('MFCC'+path)\n",
    "    plt.colorbar()\n",
    "    plt.tight_layout()\n",
    "    print(delta2_mfcc.shape , sample_rate,int(delta2_mfcc.shape[1]*0.01))\n",
    "'''"
   ]
  },
  {
   "cell_type": "markdown",
   "metadata": {},
   "source": [
    "## 5. Features normalization with *mean* and *std*"
   ]
  },
  {
   "cell_type": "code",
   "execution_count": 22,
   "metadata": {},
   "outputs": [
    {
     "data": {
      "text/plain": [
       "'\\nspectrogram1 = mfcc_combine[0]\\nspectrogram2 = mfcc_combine[1]\\nspec = np.vstack((spectrogram1,spectrogram2))\\n\\nmean = np.mean(spec, axis=0)\\nstd = np.std(spec, axis=0)\\nmfcc_combine[0] = (mfcc_combine[0] - mean) / std\\nmfcc_combine[1] = (mfcc_combine[1] - mean) / std\\n#print(mean, std)\\n'"
      ]
     },
     "execution_count": 22,
     "metadata": {},
     "output_type": "execute_result"
    }
   ],
   "source": [
    "\n",
    "spectrogram1 = spectro_combine[0][2]\n",
    "spectrogram2 = spectro_combine[1][2]\n",
    "spec = np.vstack((spectrogram1,spectrogram2))\n",
    "\n",
    "mean = np.mean(spec, axis=0)\n",
    "std = np.std(spec, axis=0)\n",
    "spectro_combine[0][2] = (spectro_combine[0][2] - mean) / std\n",
    "spectro_combine[1][2] = (spectro_combine[1][2] - mean) / std\n",
    "#print(mean, std)\n",
    "'''\n",
    "spectrogram1 = mfcc_combine[0]\n",
    "spectrogram2 = mfcc_combine[1]\n",
    "spec = np.vstack((spectrogram1,spectrogram2))\n",
    "\n",
    "mean = np.mean(spec, axis=0)\n",
    "std = np.std(spec, axis=0)\n",
    "mfcc_combine[0] = (mfcc_combine[0] - mean) / std\n",
    "mfcc_combine[1] = (mfcc_combine[1] - mean) / std\n",
    "#print(mean, std)\n",
    "'''"
   ]
  },
  {
   "cell_type": "markdown",
   "metadata": {},
   "source": [
    "## 6. Stacking of a given number of frames to get temporal information"
   ]
  },
  {
   "cell_type": "code",
   "execution_count": 26,
   "metadata": {},
   "outputs": [
    {
     "name": "stdout",
     "output_type": "stream",
     "text": [
      "(22067,)\n",
      "(42129,)\n"
     ]
    }
   ],
   "source": [
    "# or should we give one label to one chunk?\n",
    "X_uav = spectro_combine[0][2]\n",
    "X_none = spectro_combine[1][2]\n",
    "y_uav = np.ones(shape = [len(X_uav)], dtype=int)\n",
    "y_none =np.zeros(shape =[len(X_none)], dtype=int)\n",
    "\n",
    "combine_data = [[X_uav, y_uav],[X_none,y_none]]\n",
    "print(y_uav.shape)\n",
    "print(y_none.shape)"
   ]
  },
  {
   "cell_type": "code",
   "execution_count": 27,
   "metadata": {
    "scrolled": true
   },
   "outputs": [
    {
     "name": "stdout",
     "output_type": "stream",
     "text": [
      "(64196, 442) (64196,)\n"
     ]
    }
   ],
   "source": [
    "dataX = np.vstack((X_uav, X_none))\n",
    "dataY = np.hstack((y_uav, y_none))\n",
    "print(dataX.shape, dataY.shape)"
   ]
  },
  {
   "cell_type": "code",
   "execution_count": 28,
   "metadata": {},
   "outputs": [
    {
     "name": "stdout",
     "output_type": "stream",
     "text": [
      "(64188, 9, 442) (64188, 1)\n"
     ]
    }
   ],
   "source": [
    "seq_length = 9 #layer\n",
    "X_hot_list= []\n",
    "#Y_hot = dataY[seq_length-1:].reshape(len(dataY[seq_length-1:]), 1)\n",
    "Y_hot_tmp = dataY[seq_length-1:]\n",
    "\n",
    "for i in range(0, dataX.shape[0] - seq_length+1):\n",
    "    _x = dataX[i:i + seq_length]\n",
    "    #if i<10:\n",
    "        #print(_x, \"->\", Y_hot_tmp[i])\n",
    "    X_hot_list.append(_x)\n",
    "\n",
    "X_hot = np.array(X_hot_list[:])\n",
    "Y_hot = Y_hot_tmp.reshape((len(Y_hot_tmp),1))\n",
    "print(X_hot.shape, Y_hot.shape)\n"
   ]
  },
  {
   "cell_type": "code",
   "execution_count": 29,
   "metadata": {},
   "outputs": [
    {
     "name": "stdout",
     "output_type": "stream",
     "text": [
      "uav_len, none_len 22059 42129\n",
      "uav 19853 2206\n",
      "(19853, 9, 442) (22276, 9, 442)\n",
      "(19853, 1) (22276, 1)\n",
      "none 37916 4213\n",
      "(37916, 9, 442) (4213, 9, 442)\n",
      "(37916, 1) (4213, 1)\n",
      "64188\n"
     ]
    }
   ],
   "source": [
    "X_dim = 442\n",
    "X_train = np.zeros(shape=[0,9,X_dim],dtype=float)\n",
    "y_train = np.zeros(shape=[0,1],dtype=float)\n",
    "X_test = np.zeros(shape=[0,9,X_dim],dtype=float)\n",
    "y_test = np.zeros(shape=[0,1],dtype=float)\n",
    "\n",
    "split_rate = 0.9\n",
    "none_len = len(y_none)\n",
    "uav_len = len(X_hot) - none_len\n",
    "print('uav_len, none_len', uav_len,none_len)\n",
    "\n",
    "train_size = int(uav_len * split_rate)\n",
    "test_size = uav_len - train_size\n",
    "base = 0\n",
    "print('uav',train_size,test_size)\n",
    "\n",
    "X_tr, X_te = np.array(X_hot[base:base+train_size]),np.array(X_hot[base+train_size:base+none_len])\n",
    "y_tr, y_te = np.array(Y_hot[base:base+train_size]),np.array(Y_hot[base+train_size:base+none_len])\n",
    "print(X_tr.shape,X_te.shape)\n",
    "print(y_tr.shape,y_te.shape)\n",
    "\n",
    "X_train = np.vstack((X_train,X_tr))\n",
    "X_test= np.vstack((X_test,X_te))\n",
    "y_train= np.vstack((y_train,y_tr))\n",
    "y_test= np.vstack((y_test,y_te))\n",
    "\n",
    "train_size = int(none_len * split_rate)\n",
    "test_size = none_len - train_size\n",
    "base = uav_len\n",
    "print('none',train_size,test_size)\n",
    "\n",
    "X_tr, X_te = np.array(X_hot[base:base+train_size]),np.array(X_hot[base+train_size:base+none_len])\n",
    "y_tr, y_te = np.array(Y_hot[base:base+train_size]),np.array(Y_hot[base+train_size:base+none_len])\n",
    "print(X_tr.shape,X_te.shape)\n",
    "print(y_tr.shape,y_te.shape)\n",
    "\n",
    "print(base+none_len)\n",
    "X_train = np.vstack((X_train,X_tr))\n",
    "X_test= np.vstack((X_test,X_te))\n",
    "y_train= np.vstack((y_train,y_tr))\n",
    "y_test= np.vstack((y_test,y_te))"
   ]
  },
  {
   "cell_type": "code",
   "execution_count": 30,
   "metadata": {},
   "outputs": [
    {
     "name": "stdout",
     "output_type": "stream",
     "text": [
      "(57769, 9, 442) (26489, 9, 442)\n",
      "(57769, 1) (26489, 1)\n"
     ]
    }
   ],
   "source": [
    "print(X_train.shape, X_test.shape)\n",
    "print(y_train.shape, y_test.shape)"
   ]
  },
  {
   "cell_type": "code",
   "execution_count": 31,
   "metadata": {},
   "outputs": [],
   "source": [
    "'''\n",
    "np.save('../data/Xy/X_train2', X_train)\n",
    "np.save('../data/Xy/X_test2', X_test)\n",
    "np.save('../data/Xy/y_train2', y_train)\n",
    "np.save('../data/Xy/y_test2', y_test)\n",
    "'''"
   ]
  },
  {
   "cell_type": "code",
   "execution_count": 32,
   "metadata": {},
   "outputs": [],
   "source": [
    "'''\n",
    "X_train = np.load('../data/Xy/X_train2.npy')\n",
    "X_test = np.load('../data/Xy/X_test2.npy')\n",
    "y_train = np.load('../data/Xy/y_train2.npy')\n",
    "y_test = np.load('../data/Xy/y_test2.npy')\n",
    "'''"
   ]
  },
  {
   "cell_type": "markdown",
   "metadata": {},
   "source": [
    "# Tensorflow RNN"
   ]
  },
  {
   "cell_type": "markdown",
   "metadata": {},
   "source": [
    "## Train "
   ]
  },
  {
   "cell_type": "code",
   "execution_count": 33,
   "metadata": {},
   "outputs": [],
   "source": [
    "learning_rate = 0.01\n",
    "\n",
    "# train Parameters\n",
    "#X_dim = 442 #n_dim #X_hot.shape[2]\n",
    "\n",
    "#seq_length = #X_hot.shape[1]\n",
    "output_dim = 1 #n_classes #Y_hot.shape[1]\n",
    "\n",
    "hidden_dim = 2"
   ]
  },
  {
   "cell_type": "code",
   "execution_count": 34,
   "metadata": {},
   "outputs": [],
   "source": [
    "# input place holders\n",
    "X = tf.placeholder(tf.float32, [None, seq_length, X_dim], name = 'X')\n",
    "Y = tf.placeholder(tf.float32, [None, output_dim], name = 'Y')\n",
    "\n",
    "#X_one_hot = tf.one_hot(X, )\n",
    "# build a LSTM network\n",
    "cell = tf.contrib.rnn.BasicLSTMCell(num_units=hidden_dim, state_is_tuple=True, activation=tf.tanh)\n",
    "#cell = tf.contrib.rnn.MultiRNNCell([cell]*2, state_is_tuple=True)\n",
    "outputs, _states = tf.nn.dynamic_rnn(cell, X, dtype=tf.float32)\n",
    "\n",
    "Y_pred = tf.contrib.layers.fully_connected(\n",
    "    outputs[:, -1], output_dim, activation_fn=None)  # We use the last cell's output\n",
    "\n",
    "# cost/loss\n",
    "loss = tf.reduce_sum(tf.square(Y_pred - Y))  # sum of the squares\n",
    "#loss = tf.reduce_mean(tf.nn.softmax_cross_entropy_with_logits(logits = Y_pred, labels = Y))\n",
    "\n",
    "# optimizer\n",
    "lr = tf.placeholder(tf.float32,shape=(), name='learning_rate')\n",
    "train = tf.train.AdamOptimizer(lr).minimize(loss) #AdamOptimizer\n",
    "\n",
    "# RMSE\n",
    "targets = tf.placeholder(tf.float32, [None, output_dim] , name = 'targets')\n",
    "predictions = tf.placeholder(tf.float32, [None, output_dim] , name = 'predictions')\n",
    "rmse = tf.sqrt(tf.reduce_mean(tf.square(targets - predictions)))"
   ]
  },
  {
   "cell_type": "code",
   "execution_count": 35,
   "metadata": {},
   "outputs": [
    {
     "data": {
      "text/plain": [
       "array([[ 1.5071255 ,  1.16292846,  0.22309478, ..., -0.23874724,\n",
       "        -0.22733629, -0.24696735],\n",
       "       [ 1.07184398,  0.91408926,  0.90895659, ..., -0.18009135,\n",
       "        -0.2089148 , -0.21966761],\n",
       "       [-2.40981627,  0.51195908,  1.36571836, ..., -0.18078455,\n",
       "        -0.21465859, -0.25918874],\n",
       "       ...,\n",
       "       [-0.72709531,  0.47982168,  1.31215644, ...,  0.03224296,\n",
       "        -0.17400368, -0.25839514],\n",
       "       [ 1.43794644,  1.24117565,  1.15582514, ..., -0.0938672 ,\n",
       "        -0.15032138, -0.24989232],\n",
       "       [ 0.41018704,  1.2694248 ,  1.81657946, ..., -0.05716283,\n",
       "        -0.21795307, -0.25565156]])"
      ]
     },
     "execution_count": 35,
     "metadata": {},
     "output_type": "execute_result"
    }
   ],
   "source": [
    "X_train[0]"
   ]
  },
  {
   "cell_type": "code",
   "execution_count": 36,
   "metadata": {},
   "outputs": [
    {
     "name": "stdout",
     "output_type": "stream",
     "text": [
      "[step: 0] loss: 0.2997060829012965\n",
      "[step: 1] loss: 0.18975253947835344\n",
      "[step: 2] loss: 0.14211794766656857\n",
      "[step: 3] loss: 0.11458432507053956\n",
      "[step: 4] loss: 0.10444157509325937\n",
      "Test accuracy: 0.901\n",
      "[step: 0] loss: 0.09721159109989787\n",
      "[step: 1] loss: 0.09315681718352403\n",
      "[step: 2] loss: 0.08925074468194447\n",
      "[step: 3] loss: 0.08571220379063599\n",
      "[step: 4] loss: 0.08252388418745348\n",
      "Test accuracy: 0.905\n",
      "[step: 0] loss: 0.07898957790131818\n",
      "[step: 1] loss: 0.07603840464014004\n",
      "[step: 2] loss: 0.07229831006627689\n",
      "[step: 3] loss: 0.06814395108373436\n",
      "[step: 4] loss: 0.06363297664377737\n",
      "Test accuracy: 0.912\n",
      "[step: 0] loss: 0.05913227598144117\n",
      "[step: 1] loss: 0.057030242485156396\n",
      "[step: 2] loss: 0.05537843795845306\n",
      "[step: 3] loss: 0.054259902079023786\n",
      "[step: 4] loss: 0.05337306925670559\n",
      "Test accuracy: 0.920\n"
     ]
    }
   ],
   "source": [
    "init = tf.global_variables_initializer()\n",
    "\n",
    "cost_history = np.empty(shape=[1],dtype=float)\n",
    "step_loss = 999999.0\n",
    "model_path = '../models/RNN/my_RNN_model_S27_100'\n",
    "saver = tf.train.Saver()\n",
    "training_epochs = 3\n",
    "# Training step\n",
    "\n",
    "sess = tf.InteractiveSession()\n",
    "sess.run(init)\n",
    "for learning_rate in [0.02, 0.015, 0.01, 0.005]:\n",
    "    test_acc = []\n",
    "    feed = {lr:learning_rate, X: X_train, Y: y_train}\n",
    "    for i in range(training_epochs):\n",
    "        step_loss_prev = step_loss\n",
    "        _, step_loss = sess.run([train, loss], feed_dict=feed)\n",
    "        cost_history = np.append(cost_history,step_loss/X_train.shape[0])\n",
    "        \n",
    "        print(\"[step: {}] loss: {}\".format(i, step_loss/X_train.shape[0]))\n",
    "        #batch_acc, test_state = sess.run([loss, _states], feed_dict=feed)\n",
    "    print(\"Test accuracy: {:.3f}\".format(1.0-np.mean(cost_history)))\n",
    "\n",
    "saver.save(sess, model_path)\n",
    "sess.close()"
   ]
  },
  {
   "cell_type": "code",
   "execution_count": 37,
   "metadata": {},
   "outputs": [
    {
     "name": "stdout",
     "output_type": "stream",
     "text": [
      "INFO:tensorflow:Restoring parameters from ../models/RNN/my_RNN_model_S27_100\n",
      "RMSE: 0.2293880581855774\n",
      "[[0.]\n",
      " [0.]\n",
      " [0.]\n",
      " ...\n",
      " [0.]\n",
      " [0.]\n",
      " [0.]]\n",
      "(26489, 1) (26489, 1)\n"
     ]
    }
   ],
   "source": [
    "sess = tf.InteractiveSession()\n",
    "saver.restore(sess, model_path)\n",
    "\n",
    "# Test step\n",
    "test_predict = sess.run(Y_pred, feed_dict={X: X_train})\n",
    "rmse_val = sess.run(rmse, feed_dict={\n",
    "                    targets: y_train, predictions: test_predict})\n",
    "print(\"RMSE: {}\".format(rmse_val))\n",
    "\n",
    "y_pred = sess.run(Y_pred,feed_dict={X: X_test})\n",
    "y_pred[y_pred<0.5] = 0\n",
    "y_pred[y_pred>=0.5] = 1\n",
    "print(y_pred)\n",
    "y_true = y_test\n",
    "print(y_pred.shape, y_true.shape)"
   ]
  },
  {
   "cell_type": "code",
   "execution_count": 38,
   "metadata": {},
   "outputs": [],
   "source": [
    "sess.close()"
   ]
  },
  {
   "cell_type": "code",
   "execution_count": 39,
   "metadata": {
    "scrolled": false
   },
   "outputs": [
    {
     "data": {
      "image/png": "[encoded data removed]",
      "text/plain": [
       "<Figure size 720x576 with 1 Axes>"
      ]
     },
     "metadata": {},
     "output_type": "display_data"
    },
    {
     "name": "stdout",
     "output_type": "stream",
     "text": [
      "F-Score: 0.954\n",
      "Accuracy:  0.9536788855751444\n",
      "             precision    recall  f1-score   support\n",
      "\n",
      "        0.0       0.96      0.99      0.98     24283\n",
      "        1.0       0.79      0.61      0.69      2206\n",
      "\n",
      "avg / total       0.95      0.95      0.95     26489\n",
      "\n",
      "[[23927   356]\n",
      " [  871  1335]]\n"
     ]
    }
   ],
   "source": [
    "from sklearn.metrics import precision_recall_fscore_support\n",
    "from sklearn.metrics import accuracy_score\n",
    "from sklearn.metrics import classification_report\n",
    "from sklearn.metrics import confusion_matrix\n",
    "\n",
    "fig = plt.figure(figsize=(10,8))\n",
    "plt.plot(cost_history)\n",
    "plt.ylabel(\"Cost\")\n",
    "plt.xlabel(\"Iterations\") \n",
    "plt.axis([0,len(cost_history),0,np.max(cost_history)])\n",
    "plt.show()\n",
    "\n",
    "\n",
    "p,r,f,s = precision_recall_fscore_support(y_true, y_pred, average='micro')\n",
    "print(\"F-Score:\", round(f,3))\n",
    "print(\"Accuracy: \", accuracy_score(y_true, y_pred))\n",
    "\n",
    "print(classification_report(y_true, y_pred))\n",
    "print(confusion_matrix(y_true, y_pred))"
   ]
  },
  {
   "cell_type": "code",
   "execution_count": null,
   "metadata": {},
   "outputs": [
    {
     "name": "stdout",
     "output_type": "stream",
     "text": [
      "INFO:tensorflow:Restoring parameters from ../models/RNN/my_RNN_model_S27_100\n",
      "(884736,)\n"
     ]
    }
   ],
   "source": [
    "model_path_f = '../models/RNN/'\n",
    "filename = 'my_RNN_model_S27_100.meta'\n",
    "\n",
    "\n",
    "sess = tf.InteractiveSession()\n",
    "sess.run(tf.global_variables_initializer())\n",
    "loader = tf.train.import_meta_graph(model_path_f+filename)\n",
    "loader.restore(sess, tf.train.latest_checkpoint(model_path_f))\n",
    "\n",
    "SR = 44100\n",
    "####\n",
    "justone = True\n",
    "while(justone):\n",
    "    justone = False\n",
    "    #print(\"start to record the audio.\")\n",
    "    '''\n",
    "    frames = []\n",
    "    for i in range(0, int(RATE / CHUNK * RECORD_SECONDS)):\n",
    "        data = stream.read(CHUNK)\n",
    "        frames.append(data)\n",
    "    #print(\"Recording finished.\")\n",
    "    stream.stop_stream()\n",
    "    stream.close()\n",
    "\n",
    "    p.terminate()\n",
    "\n",
    "    wf = wave.open(WAVE_OUTPUT_FILENAME, 'wb')\n",
    "    wf.setnchannels(CHANNELS)\n",
    "    wf.setsampwidth(p.get_sample_size(FORMAT))\n",
    "    wf.setframerate(RATE)\n",
    "    wf.writeframes(b''.join(frames))\n",
    "    wf.close()\n",
    "    '''\n",
    "    ####\n",
    "    filename1 = '../data/phantom/JUNE_01_PHANTOMS/wavs/WSU_P2_UNLOADED_BACK_AND_FORTH.wav'\n",
    "    filename2 = '../data/phantom/JUNE_02_BACKGROUND/wavs/background/canopy_heavy_wind.wav'\n",
    "    \n",
    "    sample, sample_rate = librosa.load(filename2,SR)\n",
    "    print(sample.shape)\n",
    "    \n",
    "    \n",
    "    freqs, times, spectrogram = log_specgram(sample, sample_rate)    \n",
    "\n",
    "    spectrogram = (spectrogram - mean) / std\n",
    "    \n",
    "    dataX = spectrogram\n",
    "    #print(dataX.shape)\n",
    "    #print('delta shape:',dataX.shape)\n",
    "\n",
    "    X_hot_list= []\n",
    "    #print(dataX.shape[0] - seq_length+1)\n",
    "    for i in range(0, dataX.shape[0] - seq_length+1):\n",
    "        _x = dataX[i:i + seq_length]\n",
    "        X_hot_list.append(_x)\n",
    "    X_hot = np.array(X_hot_list[:])\n",
    "    #print(X_hot[0])\n",
    "    #print('\\n\\n\\n')\n",
    "    y_pred = sess.run(Y_pred,feed_dict={X: X_hot})\n",
    "    #y_pred[y_pred<0.5] = 0\n",
    "    #y_pred[y_pred>=0.5] = 1\n",
    "    print(y_pred[20:30] )\n",
    "    y_true = np.zeros(shape=[y_pred.shape[0]])\n",
    "    y_pred[y_pred<0.5] = 0\n",
    "    y_pred[y_pred>=0.5] = 1\n",
    "    \n",
    "    p,r,f,s = precision_recall_fscore_support(y_true, y_pred, average='micro')\n",
    "    print(\"F-Score:\", round(f,3))\n",
    "    print(\"Accuracy: \", accuracy_score(y_true, y_pred))\n",
    "\n",
    "    print(classification_report(y_true, y_pred))\n",
    "    print(confusion_matrix(y_true, y_pred))\n",
    "\n",
    "    '''\n",
    "    if y_pred[0] == 1:\n",
    "        print('The sound is Drone')\n",
    "    else :\n",
    "        print('THe sound isn\\'t Drone')\n",
    "    '''\n",
    "\n",
    "sess.close()"
   ]
  },
  {
   "cell_type": "code",
   "execution_count": null,
   "metadata": {},
   "outputs": [],
   "source": []
  },
  {
   "cell_type": "code",
   "execution_count": null,
   "metadata": {},
   "outputs": [],
   "source": []
  }
 ],
 "metadata": {
  "kernelspec": {
   "display_name": "Python 3",
   "language": "python",
   "name": "python3"
  },
  "language_info": {
   "codemirror_mode": {
    "name": "ipython",
    "version": 3
   },
   "file_extension": ".py",
   "mimetype": "text/x-python",
   "name": "python",
   "nbconvert_exporter": "python",
   "pygments_lexer": "ipython3",
   "version": "3.5.4"
  }
 },
 "nbformat": 4,
 "nbformat_minor": 2
}
