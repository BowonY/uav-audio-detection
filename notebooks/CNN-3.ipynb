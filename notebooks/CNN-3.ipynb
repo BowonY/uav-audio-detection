{
 "cells": [
  {
   "cell_type": "markdown",
   "metadata": {},
   "source": [
    "# cnn\n",
    "- scipy.io.wavfile\n",
    "- 0.5s chunk size, 0.25s window \n",
    "- mfcc\n",
    "- f1 0.972"
   ]
  },
  {
   "cell_type": "code",
   "execution_count": 3,
   "metadata": {},
   "outputs": [],
   "source": [
    "import matplotlib.pyplot as plt\n",
    "%matplotlib inline\n",
    "import IPython.display\n",
    "import librosa.display\n",
    "import numpy as np\n",
    "import librosa\n",
    "import tensorflow as tf\n",
    "from scipy import signal\n",
    "import scipy.io.wavfile"
   ]
  },
  {
   "cell_type": "markdown",
   "metadata": {},
   "source": [
    "## Data load\n",
    "- uav: only p2 unloaded\n",
    "- none: some of the background sound and other sounds like gator/train"
   ]
  },
  {
   "cell_type": "code",
   "execution_count": null,
   "metadata": {
    "scrolled": true
   },
   "outputs": [],
   "source": [
    "import glob\n",
    "uav_path = '../data/phantom/JUNE_01_PHANTOMS/wavs/p2-unloaded/*.wav'\n",
    "none_path = '../data/phantom/JUNE_02_BACKGROUND/wavs/background/use/*.wav'\n",
    "uav_files = glob.glob(uav_path)\n",
    "none_files = glob.glob(none_path)\n",
    "print('\\n'.join(uav_files))\n",
    "print('\\n'.join(none_files))"
   ]
  },
  {
   "cell_type": "code",
   "execution_count": null,
   "metadata": {},
   "outputs": [],
   "source": [
    "CHUNK_SIZE = 8192\n",
    "SR = 44100\n",
    "N_MFCC = 16"
   ]
  },
  {
   "cell_type": "code",
   "execution_count": null,
   "metadata": {},
   "outputs": [],
   "source": [
    "def load2(files):\n",
    "    _, raw = scipy.io.wavfile.read(files[0])\n",
    "    for f in files[1:]:\n",
    "        _, array = scipy.io.wavfile.read(f)\n",
    "        raw = np.hstack((raw, array))\n",
    "    print(raw.shape)\n",
    "    return raw"
   ]
  },
  {
   "cell_type": "code",
   "execution_count": null,
   "metadata": {},
   "outputs": [],
   "source": [
    "uav_raw = load2(uav_files)\n",
    "none_raw = load2(none_files)"
   ]
  },
  {
   "cell_type": "code",
   "execution_count": null,
   "metadata": {},
   "outputs": [],
   "source": [
    "np.save('../data/Xy/uav_p2_unloaded_raw', uav_raw)\n",
    "np.save('../data/Xy/none_selected_raw', none_raw)"
   ]
  },
  {
   "cell_type": "code",
   "execution_count": null,
   "metadata": {
    "scrolled": true
   },
   "outputs": [],
   "source": [
    "uav_raw = np.load('../data/Xy/uav_p2_unloaded_raw.npy')\n",
    "none_raw = np.load('../data/Xy/none_selected_raw.npy')"
   ]
  },
  {
   "cell_type": "code",
   "execution_count": null,
   "metadata": {},
   "outputs": [],
   "source": [
    "uav_raw = uav_raw.astype(float)\n",
    "none_raw = none_raw.astype(float)"
   ]
  },
  {
   "cell_type": "markdown",
   "metadata": {},
   "source": [
    "## Data preprocessing\n",
    "- features: mfcc, delta mfcc, delta2 mfcc, log spectrogram\n",
    "- 사용한피처: mfcc\n",
    "- 0.5초 청크, 0.25초 윈도우 슬라이드 (50% 오버랩)"
   ]
  },
  {
   "cell_type": "code",
   "execution_count": null,
   "metadata": {},
   "outputs": [],
   "source": [
    "# chunk:한번에 처리하는 오디오 데이터 단위\n",
    "# window: 슬라이드하는 윈도우 크기\n",
    "# 50% overlap\n",
    "# chunk size 44100/2 --> n_frame 43 (n_frame은 mfcc.shape[1]인덱스사이즈)\n",
    "def mfcc5(raw, label, chunk_size=44100//2, window_size=44100//4, sr=44100, n_mfcc=16, n_frame=43):\n",
    "    mfcc = np.empty((0, n_mfcc, n_frame))\n",
    "    y = []\n",
    "    print(raw.shape)\n",
    "    i = 0\n",
    "    while i+chunk_size <= len(raw):\n",
    "        mfcc_slice = librosa.feature.mfcc(raw[i:i+chunk_size], sr=sr, n_mfcc=n_mfcc)\n",
    "        if mfcc_slice.shape[1] < n_frame+1:\n",
    "            print(\"small end:\", mfcc_slice.shape)\n",
    "            continue\n",
    "        mfcc_slice = mfcc_slice[:,:-1]\n",
    "        mfcc_slice = mfcc_slice.reshape((1, mfcc_slice.shape[0], mfcc_slice.shape[1]))\n",
    "        mfcc = np.vstack((mfcc, mfcc_slice))\n",
    "        y.append(label)\n",
    "        i += window_size\n",
    "    y = np.array(y)\n",
    "    mfcc = mfcc.reshape(mfcc.shape[0], mfcc.shape[1], mfcc.shape[2], 1)\n",
    "    y = onehot(y, 2)\n",
    "    return mfcc, y"
   ]
  },
  {
   "cell_type": "code",
   "execution_count": null,
   "metadata": {},
   "outputs": [],
   "source": [
    "# delta_mfcc5\n",
    "# order 1 아니면 2 \n",
    "def delta_mfcc5(raw, label, order, chunk_size=44100//2, window_size=44100//4, sr=44100, n_mfcc=16, n_frame=43):\n",
    "    delta2_mfcc = np.empty((0, n_mfcc, n_frame))\n",
    "    y = []\n",
    "    print(raw.shape)\n",
    "    i = 0\n",
    "    while i+chunk_size <= len(raw):\n",
    "        S = librosa.feature.melspectrogram(raw[i:i+chunk_size], sr=sr, n_mels=128)\n",
    "        log_S = librosa.amplitude_to_db(S, ref=np.max)\n",
    "        mfcc_slice = librosa.feature.mfcc(S=log_S, sr=sr, n_mfcc=n_mfcc)\n",
    "        #print(delta_mfcc.shape)\n",
    "        delta2_mfcc_slice = librosa.feature.delta(mfcc_slice, order=order)\n",
    "        #print(delta2_mfcc_slice.shape)\n",
    "\n",
    "        #mfcc_slice = librosa.feature.mfcc(raw[i:i+chunk_size], sr=sr, n_mfcc=n_mfcc)\n",
    "        if delta2_mfcc_slice.shape[1] < n_frame+1:\n",
    "            print(\"small end:\", delta2_mfcc_slice.shape)\n",
    "            continue\n",
    "        delta2_mfcc_slice = delta2_mfcc_slice[:,:-1]\n",
    "        delta2_mfcc_slice = delta2_mfcc_slice.reshape((1, delta2_mfcc_slice.shape[0], delta2_mfcc_slice.shape[1]))\n",
    "        #print(delta2_mfcc_slice.shape)\n",
    "        #print(delta2_mfcc.shape)\n",
    "        delta2_mfcc = np.vstack((delta2_mfcc, delta2_mfcc_slice))\n",
    "        y.append(label)\n",
    "        i += window_size\n",
    "    y = np.array(y)\n",
    "    delta2_mfcc = delta2_mfcc.reshape(delta2_mfcc.shape[0], delta2_mfcc.shape[1], delta2_mfcc.shape[2], 1)\n",
    "    y = onehot(y, 2)\n",
    "    return delta2_mfcc, y"
   ]
  },
  {
   "cell_type": "code",
   "execution_count": null,
   "metadata": {},
   "outputs": [],
   "source": [
    "# log_spectrogram 계산\n",
    "# n_frame사이즈 조정\n",
    "def log_spectrograms(raw, label, chunk_size=44100//2, window_size=44100//4, sr=44100, n_frame=49, n_freqs=442):\n",
    "    ls = np.empty((0, n_frame, n_freqs))\n",
    "    y = []\n",
    "    print(raw.shape)\n",
    "    i = 0\n",
    "\n",
    "    while i+chunk_size <= len(raw):\n",
    "        #(청크개수,freqs=442, time=47)\n",
    "        ls_slice = log_specgram(raw[i:i+chunk_size], sample_rate=sr)[2]\n",
    "        if ls_slice.shape[0] < n_frame:\n",
    "            print(\"small end:\", ls_slice.shape)\n",
    "            continue\n",
    "        ls_slice = ls_slice.reshape((1, ls_slice.shape[0], ls_slice.shape[1]))\n",
    "        #print(ls_slice.shape)\n",
    "        #print(ls.shape)\n",
    "        ls = np.vstack((ls, ls_slice))\n",
    "        y.append(label)\n",
    "        i += window_size\n",
    "    y = np.array(y)\n",
    "    ls = ls.reshape(ls.shape[0], ls.shape[1], ls.shape[2], 1)\n",
    "    y = onehot(y,2)\n",
    "    return ls, y\n",
    "\n",
    "def log_specgram(audio, sample_rate, window_size=20,\n",
    "                 step_size=10, eps=1e-10):\n",
    "    nperseg = int(round(window_size * sample_rate / 1e3))\n",
    "    noverlap = int(round(step_size * sample_rate / 1e3))\n",
    "    freqs, times, spec = signal.spectrogram(audio,\n",
    "                                    fs=sample_rate,\n",
    "                                    window='hann',\n",
    "                                    nperseg=nperseg,\n",
    "                                    noverlap=noverlap,\n",
    "                                    detrend=False)\n",
    "    return freqs, times, np.log(spec.T.astype(np.float32) + eps)\n",
    "\n",
    "# log specgram one pass - 한번에...안썼음\n",
    "def log_specgram_one_pass(raw, label, sr=44100):\n",
    "    ls = log_specgram(raw, sample_rate=sr)[2]\n",
    "    ls = ls.reshape(ls.shape[0], ls.shape[1], 1)\n",
    "\n",
    "    y = [label]*ls.shape[0]\n",
    "    y = np.ones((ls.shape[0],),dtype=np.int)*label\n",
    "    print(y.shape)\n",
    "    y = onehot(y, 2)\n",
    "    return ls, y"
   ]
  },
  {
   "cell_type": "code",
   "execution_count": 4,
   "metadata": {},
   "outputs": [],
   "source": [
    "def combine(X_uav, X_none, y_uav, y_none):\n",
    "    X = np.concatenate((X_uav, X_none), axis=0)\n",
    "    y = np.concatenate((y_uav, y_none), axis=0)\n",
    "    return X, y\n",
    "\n",
    "def onehot(y, n_classes):\n",
    "    y_encoded = np.zeros((y.shape[0], n_classes))\n",
    "    y_encoded[np.arange(y.shape[0]), y] = 1\n",
    "    print(y_encoded.shape)\n",
    "    return y_encoded\n",
    "\n",
    "def split_save(X, y, name, save=False):    \n",
    "        from sklearn import model_selection\n",
    "        X_train, X_test, y_train, y_test = model_selection.train_test_split(\n",
    "            X, y, test_size=0.2, random_state=42)\n",
    "        if save:\n",
    "            np.save('../data/Xy/X_train_%s'%name, X_train)\n",
    "            np.save('../data/Xy/X_test_%s'%name, X_test)\n",
    "            np.save('../data/Xy/y_train_%s'%name, y_train)\n",
    "            np.save('../data/Xy/y_test_%s'%name, y_test)\n",
    "        return X_train, X_test, y_train, y_test\n",
    "\n",
    "def load_Xy(name):\n",
    "    X_train = np.load('../data/Xy/X_train_%s.npy'%name)\n",
    "    X_test = np.load('../data/Xy/X_test_%s.npy'%name)\n",
    "    y_train = np.load('../data/Xy/y_train_%s.npy'%name)\n",
    "    y_test = np.load('../data/Xy/y_test_%s.npy'%name)\n",
    "    return X_train, X_test, y_train, y_test"
   ]
  },
  {
   "cell_type": "code",
   "execution_count": null,
   "metadata": {
    "scrolled": false
   },
   "outputs": [],
   "source": [
    "ls_uav = log_spectrograms(uav_raw, 1)#freq 442...\n",
    "ls_none = log_spectrograms(none_raw, 0)#freq 442...\n",
    "print(ls_uav[0].shape, ls_uav[1].shape)\n",
    "print(ls_none[0].shape, ls_none[1].shape)\n",
    "\n",
    "X_ls, y_ls = combine(ls_uav[0], ls_none[0], ls_uav[1], ls_none[1])"
   ]
  },
  {
   "cell_type": "code",
   "execution_count": null,
   "metadata": {},
   "outputs": [],
   "source": [
    "ls_uav = log_specgram_one_pass(uav_raw, 1)#freq 442...\n",
    "ls_none = log_specgram_one_pass(none_raw, 0)#freq 442...\n",
    "print(ls_uav[0].shape, ls_uav[1].shape)\n",
    "print(ls_none[0].shape, ls_none[1].shape)\n",
    "\n",
    "X_ls, y_ls = combine(ls_uav[0], ls_none[0], ls_uav[1], ls_none[1])"
   ]
  },
  {
   "cell_type": "code",
   "execution_count": null,
   "metadata": {
    "scrolled": true
   },
   "outputs": [],
   "source": [
    "delta2_uav = delta_mfcc5(uav_raw, 1, order=2)\n",
    "print(delta2_uav[0].shape, delta2_uav[1].shape)\n",
    "delta2_none = delta_mfcc5(none_raw, 0, order=2)\n",
    "print(delta2_none[0].shape, delta2_none[1].shape)\n",
    "\n",
    "\n",
    "X_delta2, y_delta2 = combine(delta2_uav[0], delta2_none[0], delta2_uav[1], delta2_none[1])"
   ]
  },
  {
   "cell_type": "code",
   "execution_count": null,
   "metadata": {
    "scrolled": true
   },
   "outputs": [],
   "source": [
    "delta_uav = delta_mfcc5(uav_raw, 1, order=1)\n",
    "print(delta_uav[0].shape, delta_uav[1].shape)\n",
    "delta_none = delta_mfcc5(none_raw, 0, order=1)\n",
    "print(delta_none[0].shape, delta_none[1].shape)\n",
    "\n",
    "\n",
    "X_delta, y_delta = combine(delta_uav[0], delta_none[0], delta_uav[1], delta_none[1])"
   ]
  },
  {
   "cell_type": "code",
   "execution_count": null,
   "metadata": {
    "scrolled": false
   },
   "outputs": [],
   "source": [
    "mfcc_uav = mfcc5(uav_raw, 1)\n",
    "print(mfcc_uav[0].shape, mfcc_uav[1].shape)\n",
    "mfcc_none = mfcc5(none_raw, 0)\n",
    "print(mfcc_none[0].shape, mfcc_none[1].shape)\n",
    "\n",
    "\n",
    "X_mfcc, y_mfcc = combine(mfcc_uav[0], mfcc_none[0], mfcc_uav[1], mfcc_none[1])"
   ]
  },
  {
   "cell_type": "code",
   "execution_count": 5,
   "metadata": {
    "scrolled": false
   },
   "outputs": [
    {
     "ename": "NameError",
     "evalue": "name 'X_mfcc' is not defined",
     "output_type": "error",
     "traceback": [
      "\u001b[0;31m---------------------------------------------------------------------------\u001b[0m",
      "\u001b[0;31mNameError\u001b[0m                                 Traceback (most recent call last)",
      "\u001b[0;32m<ipython-input-5-497e460e2b86>\u001b[0m in \u001b[0;36m<module>\u001b[0;34m()\u001b[0m\n\u001b[0;32m----> 1\u001b[0;31m \u001b[0mX_train\u001b[0m\u001b[0;34m,\u001b[0m \u001b[0mX_test\u001b[0m\u001b[0;34m,\u001b[0m \u001b[0my_train\u001b[0m\u001b[0;34m,\u001b[0m \u001b[0my_test\u001b[0m \u001b[0;34m=\u001b[0m \u001b[0msplit_save\u001b[0m\u001b[0;34m(\u001b[0m\u001b[0mX_mfcc\u001b[0m\u001b[0;34m,\u001b[0m \u001b[0my_mfcc\u001b[0m\u001b[0;34m,\u001b[0m \u001b[0;34m'mfcc5_longwindow_0723'\u001b[0m\u001b[0;34m,\u001b[0m \u001b[0msave\u001b[0m\u001b[0;34m=\u001b[0m\u001b[0;32mTrue\u001b[0m\u001b[0;34m)\u001b[0m\u001b[0;34m\u001b[0m\u001b[0m\n\u001b[0m",
      "\u001b[0;31mNameError\u001b[0m: name 'X_mfcc' is not defined"
     ]
    }
   ],
   "source": [
    "X_train, X_test, y_train, y_test = split_save(X_mfcc, y_mfcc, 'mfcc5_longwindow_0723', save=True)"
   ]
  },
  {
   "cell_type": "code",
   "execution_count": 6,
   "metadata": {},
   "outputs": [],
   "source": [
    "X_train, X_test, y_train, y_test = load_Xy('mfcc5_longwindow_0723')"
   ]
  },
  {
   "cell_type": "code",
   "execution_count": null,
   "metadata": {
    "scrolled": true
   },
   "outputs": [],
   "source": [
    "X_train, X_test, y_train, y_test = split_save(X_delta2, y_delta2, 'delta2', save=True)"
   ]
  },
  {
   "cell_type": "code",
   "execution_count": null,
   "metadata": {},
   "outputs": [],
   "source": [
    "X_train, X_test, y_train, y_test = load_Xy('delta2')"
   ]
  },
  {
   "cell_type": "code",
   "execution_count": null,
   "metadata": {
    "scrolled": true
   },
   "outputs": [],
   "source": [
    "X_train, X_test, y_train, y_test = split_save(X_delta, y_delta, 'delta', save=True)"
   ]
  },
  {
   "cell_type": "code",
   "execution_count": null,
   "metadata": {},
   "outputs": [],
   "source": [
    "X_train, X_test, y_train, y_test = load_Xy('delta')"
   ]
  },
  {
   "cell_type": "code",
   "execution_count": null,
   "metadata": {
    "scrolled": true
   },
   "outputs": [],
   "source": [
    "X_train, X_test, y_train, y_test = split_save(X_ls, y_ls, 'logspec', save=True)"
   ]
  },
  {
   "cell_type": "code",
   "execution_count": null,
   "metadata": {},
   "outputs": [],
   "source": [
    "X_train, X_test, y_train, y_test = load_Xy('logspec')"
   ]
  },
  {
   "cell_type": "code",
   "execution_count": null,
   "metadata": {
    "scrolled": false
   },
   "outputs": [],
   "source": [
    "print(X_train.shape, X_test.shape)\n",
    "print(y_train.shape, y_test.shape)"
   ]
  },
  {
   "cell_type": "markdown",
   "metadata": {},
   "source": [
    "# Tensorflow finally!"
   ]
  },
  {
   "cell_type": "markdown",
   "metadata": {},
   "source": [
    "## Training"
   ]
  },
  {
   "cell_type": "markdown",
   "metadata": {},
   "source": [
    "### Parameters\n",
    "- learning rate, epoch 유의"
   ]
  },
  {
   "cell_type": "code",
   "execution_count": 7,
   "metadata": {},
   "outputs": [],
   "source": [
    "n_mfcc = 16\n",
    "n_frame = 43\n",
    "n_classes = 2\n",
    "n_channels = 1\n",
    "\n",
    "learning_rate = 0.001\n",
    "training_epochs = 2500"
   ]
  },
  {
   "cell_type": "markdown",
   "metadata": {},
   "source": [
    "### Experiment 1 - One convolutional layer\n",
    "- filter size: [13,4] n_mfcc가 16이고 frequency 대역이 중요해서 필터는 n_mfcc에 맞게 되도록 길게"
   ]
  },
  {
   "cell_type": "code",
   "execution_count": 8,
   "metadata": {
    "scrolled": false
   },
   "outputs": [
    {
     "name": "stdout",
     "output_type": "stream",
     "text": [
      "Tensor(\"conv2d/Relu:0\", shape=(?, 4, 40, 1), dtype=float32)\n",
      "Tensor(\"max_pooling2d/MaxPool:0\", shape=(?, 4, 40, 1), dtype=float32)\n",
      "Tensor(\"conv2d_1/Relu:0\", shape=(?, 4, 40, 1), dtype=float32)\n",
      "Tensor(\"max_pooling2d_1/MaxPool:0\", shape=(?, 2, 20, 1), dtype=float32)\n",
      "Tensor(\"Reshape_1:0\", shape=(?, 40), dtype=float32)\n",
      "Tensor(\"dense/Relu:0\", shape=(?, 200), dtype=float32)\n"
     ]
    }
   ],
   "source": [
    "X = tf.placeholder(tf.float32, shape=[None,n_mfcc*n_frame*n_channels])\n",
    "X = tf.reshape(X, [-1, n_mfcc, n_frame, n_channels])\n",
    "Y = tf.placeholder(tf.float32, shape=[None,n_classes])\n",
    "\n",
    "# rectangular filter\n",
    "conv1 = tf.layers.conv2d(inputs=X, filters=1, kernel_size=[13, 4],\n",
    "                         activation=tf.nn.relu)\n",
    "print(conv1)\n",
    "\n",
    "pool1 = tf.layers.max_pooling2d(inputs=conv1, pool_size=[3, 3],\n",
    "                                padding='SAME', strides=1)\n",
    "print(pool1)\n",
    "\n",
    "conv2 = tf.layers.conv2d(inputs=pool1, filters=1, kernel_size=[2, 2],\n",
    "                         padding=\"SAME\", activation=tf.nn.relu)\n",
    "print(conv2)\n",
    "pool2 = tf.layers.max_pooling2d(inputs=conv2, pool_size=[2, 2],\n",
    "                                padding=\"SAME\", strides=2)\n",
    "print(pool2)\n",
    "\n",
    "\n",
    "flat = tf.reshape(pool2, [-1, 2*20*1])\n",
    "print(flat)\n",
    "\n",
    "dense3 = tf.layers.dense(inputs=flat, units=200, activation=tf.nn.relu)\n",
    "logits = tf.layers.dense(inputs=dense3, units=2)\n",
    "print(dense3)\n",
    "\n",
    "cost = tf.reduce_mean(tf.nn.softmax_cross_entropy_with_logits_v2(logits=logits, labels=Y))\n",
    "optimizer = tf.train.AdamOptimizer(learning_rate=learning_rate).minimize(cost)"
   ]
  },
  {
   "cell_type": "code",
   "execution_count": 9,
   "metadata": {},
   "outputs": [],
   "source": [
    "sess = tf.Session()\n",
    "sess.run(tf.global_variables_initializer())"
   ]
  },
  {
   "cell_type": "code",
   "execution_count": 10,
   "metadata": {},
   "outputs": [],
   "source": [
    "model_path = '../models/cnn/cnn'\n",
    "saver = tf.train.Saver()"
   ]
  },
  {
   "cell_type": "code",
   "execution_count": 11,
   "metadata": {
    "scrolled": true
   },
   "outputs": [
    {
     "name": "stdout",
     "output_type": "stream",
     "text": [
      "Epoch: 0001 cost =  0.786575564\n",
      "Epoch: 0051 cost =  0.008409197\n",
      "Epoch: 0101 cost =  0.000729695\n",
      "Epoch: 0151 cost =  0.000290679\n",
      "Epoch: 0201 cost =  0.000158104\n",
      "Epoch: 0251 cost =  0.000096778\n",
      "Epoch: 0301 cost =  0.000063447\n",
      "Epoch: 0351 cost =  0.000043069\n",
      "Epoch: 0401 cost =  0.000030492\n",
      "Epoch: 0451 cost =  0.000022118\n",
      "Epoch: 0501 cost =  0.000016419\n",
      "Epoch: 0551 cost =  0.000012351\n",
      "Epoch: 0601 cost =  0.000009326\n",
      "Epoch: 0651 cost =  0.000007147\n",
      "Epoch: 0701 cost =  0.000005513\n",
      "Epoch: 0751 cost =  0.000004265\n",
      "Epoch: 0801 cost =  0.000003315\n",
      "Epoch: 0851 cost =  0.000002610\n",
      "Epoch: 0901 cost =  0.000002030\n",
      "Epoch: 0951 cost =  0.000001602\n",
      "Epoch: 1001 cost =  0.000001249\n",
      "Epoch: 1051 cost =  0.000000985\n",
      "Epoch: 1101 cost =  0.000000775\n",
      "Epoch: 1151 cost =  0.000000610\n",
      "Epoch: 1201 cost =  0.000000482\n",
      "Epoch: 1251 cost =  0.000000380\n",
      "Epoch: 1301 cost =  0.000000305\n",
      "Epoch: 1351 cost =  0.000000239\n",
      "Epoch: 1401 cost =  0.000000191\n",
      "Epoch: 1451 cost =  0.000000152\n",
      "Epoch: 1501 cost =  0.000000122\n",
      "Epoch: 1551 cost =  0.000000097\n",
      "Epoch: 1601 cost =  0.000000077\n",
      "Epoch: 1651 cost =  0.000000062\n",
      "Epoch: 1701 cost =  0.000000050\n",
      "Epoch: 1751 cost =  0.000000039\n",
      "Epoch: 1801 cost =  0.000000032\n",
      "Epoch: 1851 cost =  0.000000025\n",
      "Epoch: 1901 cost =  0.000000020\n",
      "Epoch: 1951 cost =  0.000000016\n",
      "Epoch: 2001 cost =  0.000000012\n",
      "Epoch: 2051 cost =  0.000000010\n",
      "Epoch: 2101 cost =  0.000000007\n",
      "Epoch: 2151 cost =  0.000000006\n",
      "Epoch: 2201 cost =  0.000000005\n",
      "Epoch: 2251 cost =  0.000000003\n",
      "Epoch: 2301 cost =  0.000000003\n",
      "Epoch: 2351 cost =  0.000000002\n",
      "Epoch: 2401 cost =  0.000000002\n",
      "Epoch: 2451 cost =  0.000000001\n"
     ]
    },
    {
     "data": {
      "text/plain": [
       "'../models/cnn/cnn'"
      ]
     },
     "execution_count": 11,
     "metadata": {},
     "output_type": "execute_result"
    }
   ],
   "source": [
    "batch_size = 100\n",
    "cost_history = np.empty(shape=[1], dtype=float)\n",
    "\n",
    "for epoch in range(training_epochs):\n",
    "    avg_cost = 0\n",
    "    total_batch = int(y_train.shape[0] / batch_size)\n",
    "    for i in range(0, y_train.shape[0], batch_size):\n",
    "        feed_dict={X:X_train[i:i+batch_size,:,:,:], Y:y_train[i:i+batch_size,:]}\n",
    "        c, _ = sess.run([cost, optimizer], feed_dict=feed_dict)\n",
    "        cost_history = np.append(cost_history,cost)\n",
    "        avg_cost += c/total_batch\n",
    "    if epoch % 50 == 0:\n",
    "        print('Epoch:', '%04d' % (epoch+1), 'cost = ', '{:.9f}'.format(avg_cost))\n",
    "saver.save(sess, model_path)"
   ]
  },
  {
   "cell_type": "code",
   "execution_count": 12,
   "metadata": {
    "scrolled": true
   },
   "outputs": [],
   "source": [
    "y_pred = sess.run(tf.argmax(logits,1),feed_dict={X: X_test})\n",
    "y_true = sess.run(tf.argmax(y_test,1))"
   ]
  },
  {
   "cell_type": "markdown",
   "metadata": {},
   "source": [
    "### Results\n",
    "- mfcc\n",
    "- long frame (0.5sec), long window (0.25)\n",
    "- batch 100\n",
    "- rectangular filter size\n",
    "- epoch 2500\n",
    "- learning rate 0.001"
   ]
  },
  {
   "cell_type": "code",
   "execution_count": 13,
   "metadata": {
    "scrolled": false
   },
   "outputs": [
    {
     "name": "stdout",
     "output_type": "stream",
     "text": [
      "F-Score: 0.972\n",
      "Accuracy:  0.9715909090909091\n",
      "             precision    recall  f1-score   support\n",
      "\n",
      "          0       0.98      0.97      0.98       113\n",
      "          1       0.95      0.97      0.96        63\n",
      "\n",
      "avg / total       0.97      0.97      0.97       176\n",
      "\n",
      "[[110   3]\n",
      " [  2  61]]\n"
     ]
    }
   ],
   "source": [
    "from sklearn.metrics import precision_recall_fscore_support\n",
    "p,r,f,s = precision_recall_fscore_support(y_true, y_pred, average='micro')\n",
    "print(\"F-Score:\", round(f,3))\n",
    "from sklearn.metrics import accuracy_score\n",
    "print(\"Accuracy: \", accuracy_score(y_true, y_pred))\n",
    "\n",
    "from sklearn.metrics import classification_report\n",
    "print(classification_report(y_true, y_pred))\n",
    "from sklearn.metrics import confusion_matrix\n",
    "print(confusion_matrix(y_true, y_pred))"
   ]
  }
 ],
 "metadata": {
  "kernelspec": {
   "display_name": "Python 3",
   "language": "python",
   "name": "python3"
  },
  "language_info": {
   "codemirror_mode": {
    "name": "ipython",
    "version": 3
   },
   "file_extension": ".py",
   "mimetype": "text/x-python",
   "name": "python",
   "nbconvert_exporter": "python",
   "pygments_lexer": "ipython3",
   "version": "3.6.2"
  }
 },
 "nbformat": 4,
 "nbformat_minor": 2
}
