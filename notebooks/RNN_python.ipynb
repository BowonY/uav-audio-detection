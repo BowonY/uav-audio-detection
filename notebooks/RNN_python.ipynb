{
 "cells": [
  {
   "cell_type": "code",
   "execution_count": 1,
   "metadata": {},
   "outputs": [
    {
     "data": {
      "text/html": [
       "<script>requirejs.config({paths: { 'plotly': ['https://cdn.plot.ly/plotly-latest.min']},});if(!window.Plotly) {{require(['plotly'],function(plotly) {window.Plotly=plotly;});}}</script>"
      ],
      "text/vnd.plotly.v1+html": [
       "<script>requirejs.config({paths: { 'plotly': ['https://cdn.plot.ly/plotly-latest.min']},});if(!window.Plotly) {{require(['plotly'],function(plotly) {window.Plotly=plotly;});}}</script>"
      ]
     },
     "metadata": {},
     "output_type": "display_data"
    }
   ],
   "source": [
    "import os\n",
    "from os.path import isdir, join\n",
    "from pathlib import Path\n",
    "import pandas as pd\n",
    "\n",
    "import tensorflow as tf\n",
    "# Math\n",
    "import numpy as np\n",
    "from scipy.fftpack import fft\n",
    "from scipy import signal\n",
    "from scipy.io import wavfile\n",
    "import librosa\n",
    "\n",
    "from sklearn.decomposition import PCA\n",
    "\n",
    "# Visualization\n",
    "import matplotlib.pyplot as plt\n",
    "import seaborn as sns\n",
    "import IPython.display as ipd\n",
    "import librosa.display\n",
    "\n",
    "import plotly.offline as py\n",
    "py.init_notebook_mode(connected=True)\n",
    "import plotly.graph_objs as go\n",
    "import plotly.tools as tls\n",
    "import pandas as pd\n",
    "\n",
    "%matplotlib inline"
   ]
  },
  {
   "cell_type": "code",
   "execution_count": 2,
   "metadata": {},
   "outputs": [],
   "source": [
    "import glob\n",
    "uav_path = '../data/phantom/JUNE_01_PHANTOMS/wavs/*.wav'\n",
    "none_path = '../data/phantom/JUNE_02_BACKGROUND/wavs/background/background_0*.wav'\n",
    "uav_files = glob.glob(uav_path)\n",
    "none_files = glob.glob(none_path)"
   ]
  },
  {
   "cell_type": "code",
   "execution_count": 3,
   "metadata": {
    "scrolled": true
   },
   "outputs": [
    {
     "name": "stdout",
     "output_type": "stream",
     "text": [
      "11 개\t ../data/phantom/JUNE_01_PHANTOMS/wavs\\P1_stationary.wav\n",
      "21 개\t ../data/phantom/JUNE_02_BACKGROUND/wavs/background\\background_06_02_01.wav\n"
     ]
    }
   ],
   "source": [
    "print(len(uav_files),'개\\t', uav_files[0])\n",
    "print(len(none_files), '개\\t',none_files[0])"
   ]
  },
  {
   "cell_type": "markdown",
   "metadata": {},
   "source": [
    "# Load Data\n",
    "\n",
    "The reason of why SR is 44100 is that the sample rate of above files is 44.1kbps\n",
    "\n",
    "a wav file sample has 884736. if sample is divided by sample rate, the value is time\n",
    "the time is fixed by 20.06"
   ]
  },
  {
   "cell_type": "code",
   "execution_count": 4,
   "metadata": {},
   "outputs": [],
   "source": [
    "def loadSample(files,sample_rate):\n",
    "    [sample_np, sample_rate] = librosa.load(files[0],sample_rate)\n",
    "    print(len(sample_np), sample_rate, files[0])\n",
    "    for f in files[1:]:\n",
    "        [sample, sample_rate] = librosa.load(f,sample_rate)\n",
    "        sample_np = np.hstack((sample_np, sample))\n",
    "    return sample_np, sample_rate"
   ]
  },
  {
   "cell_type": "code",
   "execution_count": 5,
   "metadata": {},
   "outputs": [
    {
     "name": "stdout",
     "output_type": "stream",
     "text": [
      "884736 44100 ../data/phantom/JUNE_01_PHANTOMS/wavs\\P1_stationary.wav\n",
      "884736 44100 ../data/phantom/JUNE_02_BACKGROUND/wavs/background\\background_06_02_01.wav\n",
      "(9732096,) (18579456,)\n"
     ]
    }
   ],
   "source": [
    "SR = 44100\n",
    "uav_sample, uav_sample_rate = loadSample(uav_files,SR )\n",
    "none_sample, none_sample_rate = loadSample(none_files,SR)\n",
    "\n",
    "print(uav_sample.shape,none_sample.shape )\n",
    "combine = [[uav_sample,uav_path,uav_sample_rate],[none_sample,none_path,none_sample_rate]]"
   ]
  },
  {
   "cell_type": "markdown",
   "metadata": {},
   "source": [
    "# Feature extraction \n",
    "## steps\n",
    "#### 1. Resampling \n",
    "#### 2. *VAD*( Voice Activity Detection)\n",
    "#### 3. Maybe padding with 0 to make signals be equal length\n",
    "#### 4. Log spectrogram (or *MFCC*, or *PLP*)\n",
    "#### 5. Features normalization with *mean* and *std*\n",
    "#### 6. Stacking of a given number of frames to get temporal information\n",
    "\n"
   ]
  },
  {
   "cell_type": "markdown",
   "metadata": {},
   "source": [
    "## 1. Resampling\n",
    "\n",
    "if you see the graph, there are few at high frequency. this is mean that data is big but it's no useless. so To small the data, do Resampling. In general, use 0~8000Hz "
   ]
  },
  {
   "cell_type": "code",
   "execution_count": 6,
   "metadata": {},
   "outputs": [],
   "source": [
    "def log_specgram(audio, sample_rate, window_size=20,\n",
    "                 step_size=10, eps=1e-10):\n",
    "    nperseg = int(round(window_size * sample_rate / 1e3))\n",
    "    noverlap = int(round(step_size * sample_rate / 1e3))\n",
    "    freqs, times, spec = signal.spectrogram(audio,\n",
    "                                    fs=sample_rate,\n",
    "                                    window='hann',\n",
    "                                    nperseg=nperseg,\n",
    "                                    noverlap=noverlap,\n",
    "                                    detrend=False)\n",
    "    return freqs, times, np.log(spec.T.astype(np.float32) + eps)"
   ]
  },
  {
   "cell_type": "code",
   "execution_count": 7,
   "metadata": {},
   "outputs": [],
   "source": [
    "def showFreqTime(combine):\n",
    "    for sample, filename, _ in combine:\n",
    "        freqs, times, spectrogram = log_specgram(sample, SR)\n",
    "        fig = plt.figure(figsize=(14, 10))\n",
    "        ax1 = fig.add_subplot(211)\n",
    "        ax1.set_title('Raw wave of ' + filename)\n",
    "        ax1.set_ylabel('Amplitude')\n",
    "        ax1.plot(np.linspace(0, len(sample)/SR, len(sample)), sample)\n",
    "\n",
    "        ax2 = fig.add_subplot(212)\n",
    "        ax2.imshow(spectrogram.T, aspect='auto', origin='lower', \n",
    "               extent=[times.min(), times.max(), freqs.min(), freqs.max()])\n",
    "        ax2.set_yticks(freqs[::16])\n",
    "        ax2.set_xticks(times[::16])\n",
    "        ax2.set_title('Spectrogram of ' + filename)\n",
    "        ax2.set_ylabel('Freqs in Hz')\n",
    "        ax2.set_xlabel('Seconds')"
   ]
  },
  {
   "cell_type": "code",
   "execution_count": 8,
   "metadata": {
    "scrolled": true
   },
   "outputs": [],
   "source": [
    "#showFreqTime(combine)"
   ]
  },
  {
   "cell_type": "code",
   "execution_count": 9,
   "metadata": {},
   "outputs": [],
   "source": [
    "def custom_fft(y, fs):\n",
    "    T = 1.0 / fs\n",
    "    N = y.shape[0]\n",
    "    yf = fft(y)\n",
    "    xf = np.linspace(0.0, 1.0/(2.0*T), N//2)\n",
    "    vals = 2.0/N * np.abs(yf[0:N//2])  # FFT is simmetrical, so we take just the first half\n",
    "    # FFT is also complex, to we take just the real part (abs)\n",
    "    return xf, vals"
   ]
  },
  {
   "cell_type": "code",
   "execution_count": 10,
   "metadata": {},
   "outputs": [],
   "source": [
    "new_sample_rate = combine[0][2]  #/4\n",
    "combine_prev = combine[:]\n",
    "\n",
    "combine = []\n",
    "for samples, path, sample_rate in combine_prev:\n",
    "    resampled = signal.resample(samples, int(new_sample_rate/sample_rate * samples.shape[0]))\n",
    "    combine.append([resampled,path,new_sample_rate])"
   ]
  },
  {
   "cell_type": "code",
   "execution_count": 11,
   "metadata": {},
   "outputs": [
    {
     "data": {
      "image/png": "[encoded data removed]",
      "text/plain": [
       "<Figure size 864x288 with 1 Axes>"
      ]
     },
     "metadata": {},
     "output_type": "display_data"
    },
    {
     "data": {
      "image/png": "[encoded data removed]",
      "text/plain": [
       "<Figure size 864x288 with 1 Axes>"
      ]
     },
     "metadata": {},
     "output_type": "display_data"
    }
   ],
   "source": [
    "for samples, path, sample_rate in [combine_prev[0],combine[0]]:\n",
    "    xf, vals = custom_fft(samples, sample_rate)\n",
    "    plt.figure(figsize=(12, 4))\n",
    "    plt.title('FFT of recording sampled with ' + str(sample_rate) + ' Hz')\n",
    "    plt.plot(xf, vals)\n",
    "    plt.xlabel('Frequency')\n",
    "    plt.grid()\n",
    "    plt.show()"
   ]
  },
  {
   "cell_type": "markdown",
   "metadata": {},
   "source": [
    "### Data diffrence\n",
    "\n",
    "qualiy is diffrence but, the data is almost same."
   ]
  },
  {
   "cell_type": "code",
   "execution_count": 12,
   "metadata": {},
   "outputs": [],
   "source": [
    "#ipd.Audio(combine_prev[0][0], rate=combine_prev[0][2])"
   ]
  },
  {
   "cell_type": "code",
   "execution_count": 13,
   "metadata": {},
   "outputs": [],
   "source": [
    "#ipd.Audio(combine[0][0], rate=combine[0][2])"
   ]
  },
  {
   "cell_type": "markdown",
   "metadata": {},
   "source": [
    "## 2. VAD\n",
    "\n",
    "Sometimes, Files have silence. It is not necessary. So, We need to find sound of Drone except silence.\n",
    "\n",
    "But, Not yet implemented"
   ]
  },
  {
   "cell_type": "markdown",
   "metadata": {},
   "source": [
    "## 3. padding with 0 to make signals be equal length\n",
    "\n",
    "If we have a lot of sound files, we need to pad some datas. But These files's time is longger than 1 second. So It dosn't need to pad"
   ]
  },
  {
   "cell_type": "markdown",
   "metadata": {},
   "source": [
    "## 4. Log spectrogram (or MFCC, or PLP)\n",
    "\n",
    "The upper picture is resampled data. \n",
    "The lower picture is original data.\n",
    "\n",
    "In MFCC Feature, There is no big difference. "
   ]
  },
  {
   "cell_type": "code",
   "execution_count": 14,
   "metadata": {},
   "outputs": [],
   "source": [
    "from scipy.stats import skew\n",
    "#returns mfcc features with mean and standard deviation along time\n",
    "def get_mfcc(b):\n",
    "    ft1 = librosa.feature.mfcc(b, sr = SR, n_mfcc=20)\n",
    "    ft2 = librosa.feature.zero_crossing_rate(b)[0]\n",
    "    ft3 = librosa.feature.spectral_rolloff(b)[0]\n",
    "    ft4 = librosa.feature.spectral_centroid(b)[0]\n",
    "    ft5 = librosa.feature.spectral_contrast(b)[0]\n",
    "    ft6 = librosa.feature.spectral_bandwidth(b)[0]\n",
    "    ft1_trunc = np.hstack((np.mean(ft1, axis=1), np.std(ft1, axis=1), skew(ft1, axis = 1), np.max(ft1, axis = 1), np.min(ft1, axis = 1)))\n",
    "    ft2_trunc = np.hstack((np.mean(ft2), np.std(ft2), skew(ft2), np.max(ft2), np.min(ft2)))\n",
    "    ft3_trunc = np.hstack((np.mean(ft3), np.std(ft3), skew(ft3), np.max(ft3), np.min(ft3)))\n",
    "    ft4_trunc = np.hstack((np.mean(ft4), np.std(ft4), skew(ft4), np.max(ft4), np.min(ft4)))\n",
    "    ft5_trunc = np.hstack((np.mean(ft5), np.std(ft5), skew(ft5), np.max(ft5), np.min(ft5)))\n",
    "    ft6_trunc = np.hstack((np.mean(ft6), np.std(ft6), skew(ft6), np.max(ft6), np.min(ft6)))\n",
    "    #print(len(ft1_trunc),len(ft2_trunc),len(ft3_trunc),len(ft4_trunc),len(ft5_trunc),len(ft6_trunc))\n",
    "    return pd.Series(np.hstack((ft1_trunc, ft2_trunc, ft3_trunc, ft4_trunc, ft5_trunc, ft6_trunc)))\n",
    "def mfcc(raw, chunk_size=8192, sr=44100, n_mfcc=13):\n",
    "    mfcc = np.empty((13, 0))\n",
    "    for i in range(0, len(raw), chunk_size):\n",
    "        mfcc_slice = librosa.feature.mfcc(raw[i:i+chunk_size], sr=sr, n_mfcc=n_mfcc)\n",
    "        mfcc = np.hstack((mfcc, mfcc_slice))\n",
    "    return mfcc\n",
    "def mfcc2(raw, label, chunk_size=8192, sr=44100, n_mfcc=13):\n",
    "    mfcc = np.empty((0, n_mfcc, 17))\n",
    "    y = []\n",
    "    for i in range(0, len(raw), chunk_size):\n",
    "        mfcc_slice = librosa.feature.mfcc(raw[i:i+chunk_size], sr=sr, n_mfcc=n_mfcc)\n",
    "        mfcc_slice = mfcc_slice.reshape((1,n_mfcc,17))\n",
    "        mfcc = np.vstack((mfcc, mfcc_slice))\n",
    "        y.append(label)\n",
    "    y = np.array(y)\n",
    "    return mfcc, y\n",
    "def mfcc3(raw, label, chunk_size=8192, sr=44100, n_mfcc=13):\n",
    "    mfcc = np.empty((n_mfcc*17, 0))\n",
    "    y = []\n",
    "    for i in range(0, len(raw), chunk_size):\n",
    "        mfcc_slice = librosa.feature.mfcc(raw[i:i+chunk_size], sr=sr, n_mfcc=n_mfcc)\n",
    "        #print(mfcc_slice)\n",
    "        mfcc_slice = mfcc_slice.reshape((n_mfcc*17, 1)) #mfcc_slice.reshape((1,n_mfcc,17))\n",
    "        #print(mfcc_slice)\n",
    "        mfcc = np.hstaack((mfcc, mfcc_slice))\n",
    "        y.append(label)\n",
    "    y = np.array(y)\n",
    "    return mfcc, y\n",
    "def mfcc4(raw, label, chunk_size=8192, window_size=4096, sr=44100, n_mfcc=16, n_frame=16):\n",
    "    mfcc = np.empty((0, n_mfcc, n_frame))\n",
    "    y = []\n",
    "    print(raw.shape)\n",
    "    for i in range(0, len(raw), chunk_size//2):\n",
    "        mfcc_slice = librosa.feature.mfcc(raw[i:i+chunk_size], sr=sr, n_mfcc=n_mfcc) #n_mfcc,17\n",
    "        if mfcc_slice.shape[1] < 17:\n",
    "            print(\"small end:\", mfcc_slice.shape)\n",
    "            continue\n",
    "        mfcc_slice = mfcc_slice[:,:-1]\n",
    "        mfcc_slice = mfcc_slice.reshape((1, mfcc_slice.shape[0], mfcc_slice.shape[1]))\n",
    "        mfcc = np.vstack((mfcc, mfcc_slice))\n",
    "        y.append(label)\n",
    "    y = np.array(y)\n",
    "    return mfcc, y\n",
    "\n",
    "def log_specgram(audio, sample_rate, window_size=20,\n",
    "                 step_size=10, eps=1e-10):\n",
    "    nperseg = int(round(window_size * sample_rate / 1e3))\n",
    "    noverlap = int(round(step_size * sample_rate / 1e3))\n",
    "    freqs, times, spec = signal.spectrogram(audio,\n",
    "                                    fs=sample_rate,\n",
    "                                    window='hann',\n",
    "                                    nperseg=nperseg,\n",
    "                                    noverlap=noverlap,\n",
    "                                    detrend=False)\n",
    "    return freqs, times, np.log(spec.T.astype(np.float32) + eps)"
   ]
  },
  {
   "cell_type": "code",
   "execution_count": 15,
   "metadata": {},
   "outputs": [],
   "source": [
    "spectro_combine = []\n",
    "for sample,path,sample_rate in combine:\n",
    "    freqs, times, spectrogram = log_specgram(sample, sample_rate)\n",
    "    spectro_combine.append([freqs, times, spectrogram ])\n",
    "spectro_combine_tmp = spectro_combine"
   ]
  },
  {
   "cell_type": "code",
   "execution_count": 16,
   "metadata": {},
   "outputs": [
    {
     "data": {
      "text/plain": [
       "'\\nmfcc_combine = []\\nframesize = 8192\\nfor sample,path,sample_rate in combine:\\n    #sample = sample[:8192*1] \\n    _mfcc = mfcc(sample)\\n    mfcc_combine.append(_mfcc.T)\\n'"
      ]
     },
     "execution_count": 16,
     "metadata": {},
     "output_type": "execute_result"
    }
   ],
   "source": [
    "'''\n",
    "mfcc_combine = []\n",
    "framesize = 8192\n",
    "for sample,path,sample_rate in combine:\n",
    "    #sample = sample[:8192*1] \n",
    "    _mfcc = mfcc(sample)\n",
    "    mfcc_combine.append(_mfcc.T)\n",
    "'''\n"
   ]
  },
  {
   "cell_type": "code",
   "execution_count": 17,
   "metadata": {
    "scrolled": false
   },
   "outputs": [
    {
     "data": {
      "text/plain": [
       "'\\nmfcc_combine = []\\nframesize = 8192\\nfor sample,path,sample_rate in combine:\\n    #sample = sample[:8192*1] \\n    _mfccs = np.zeros(shape=[0,20],dtype=float)\\n    for i in range(0,int(len(sample)),framesize):\\n        S = librosa.feature.melspectrogram(sample[i:i+framesize], sr=sample_rate, n_mels=128)\\n        log_S = librosa.power_to_db(S, ref=np.max)\\n        mfcc = librosa.feature.mfcc(S=log_S, n_mfcc=20)\\n        delta2_mfcc = librosa.feature.delta(mfcc, order=2)\\n        delta2_mfcc = delta2_mfcc.T \\n        _mfccs = np.vstack((_mfccs,delta2_mfcc[:]))\\n    print(_mfccs.shape)\\n    mfcc_combine.append(_mfccs)\\n'"
      ]
     },
     "execution_count": 17,
     "metadata": {},
     "output_type": "execute_result"
    }
   ],
   "source": [
    "'''\n",
    "mfcc_combine = []\n",
    "framesize = 8192\n",
    "for sample,path,sample_rate in combine:\n",
    "    #sample = sample[:8192*1] \n",
    "    _mfccs = np.zeros(shape=[0,20],dtype=float)\n",
    "    for i in range(0,int(len(sample)),framesize):\n",
    "        S = librosa.feature.melspectrogram(sample[i:i+framesize], sr=sample_rate, n_mels=128)\n",
    "        log_S = librosa.power_to_db(S, ref=np.max)\n",
    "        mfcc = librosa.feature.mfcc(S=log_S, n_mfcc=20)\n",
    "        delta2_mfcc = librosa.feature.delta(mfcc, order=2)\n",
    "        delta2_mfcc = delta2_mfcc.T \n",
    "        _mfccs = np.vstack((_mfccs,delta2_mfcc[:]))\n",
    "    print(_mfccs.shape)\n",
    "    mfcc_combine.append(_mfccs)\n",
    "'''"
   ]
  },
  {
   "cell_type": "code",
   "execution_count": 18,
   "metadata": {},
   "outputs": [
    {
     "data": {
      "text/plain": [
       "'\\nmfcc_combine = []\\nframesize = 4096\\n_mfccs = np.zeros(shape=[0, 125],dtype=float)\\nfor sample,path,sample_rate in combine:\\n    for i in range(0,int(len(sample)),framesize):\\n        _mfccs = np.vstack((_mfccs,get_mfcc(sample[i:i+framesize])))\\n    mfcc_combine.append(_mfccs)\\n    print(_mfccs.shape)\\n'"
      ]
     },
     "execution_count": 18,
     "metadata": {},
     "output_type": "execute_result"
    }
   ],
   "source": [
    "'''\n",
    "mfcc_combine = []\n",
    "framesize = 4096\n",
    "_mfccs = np.zeros(shape=[0, 125],dtype=float)\n",
    "for sample,path,sample_rate in combine:\n",
    "    for i in range(0,int(len(sample)),framesize):\n",
    "        _mfccs = np.vstack((_mfccs,get_mfcc(sample[i:i+framesize])))\n",
    "    mfcc_combine.append(_mfccs)\n",
    "    print(_mfccs.shape)\n",
    "'''"
   ]
  },
  {
   "cell_type": "code",
   "execution_count": 19,
   "metadata": {},
   "outputs": [
    {
     "data": {
      "text/plain": [
       "'\\nfor sample,path,sample_rate in combine:\\n    mfcc_uav, y_uav = mfcc4(uav_raw, 1)\\n    \\n    mfcc_none, y_none = mfcc4(none_raw, 0)\\n    mfcc_combine.append(_mfcc)\\n'"
      ]
     },
     "execution_count": 19,
     "metadata": {},
     "output_type": "execute_result"
    }
   ],
   "source": [
    "'''\n",
    "mfcc_combine = []\n",
    "\n",
    "#_mfccs = np.zeros(shape=[20, 0],dtype=float)\n",
    "#np.vstack  Stack arrays in sequence vertically\n",
    "#np.hstack  Split array along second axis.\n",
    "\n",
    "'''\n",
    "'''\n",
    "\n",
    "mfcc_uav , y_uav = mfcc4(combine[0][0], 1)\n",
    "print(mfcc_uav.shape, y_uav.shape)\n",
    "mfcc_none, y_none = mfcc4(combine[1][0], 0)\n",
    "print(mfcc_none.shape, y_none.shape)\n",
    "'''\n",
    "'''\n",
    "for sample,path,sample_rate in combine:\n",
    "    mfcc_uav, y_uav = mfcc4(uav_raw, 1)\n",
    "    \n",
    "    mfcc_none, y_none = mfcc4(none_raw, 0)\n",
    "    mfcc_combine.append(_mfcc)\n",
    "'''"
   ]
  },
  {
   "cell_type": "code",
   "execution_count": 20,
   "metadata": {},
   "outputs": [
    {
     "data": {
      "text/plain": [
       "\"\\nmfcc_combine = []\\nfor sample,path,sample_rate in combine:\\n    S = librosa.feature.melspectrogram(sample, sr=sample_rate, n_mels=128)\\n    # Convert to log scale (dB). We'll use the peak power (max) as reference.\\n    log_S = librosa.power_to_db(S, ref=np.max)\\n    mfcc = librosa.feature.mfcc(S=log_S, n_mfcc=13)\\n\\n    # Let's pad on the first and second deltas while we're at it\\n    delta2_mfcc = librosa.feature.delta(mfcc, order=2)\\n    mfcc_combine.append(delta2_mfcc)\\n    \\n    plt.figure(figsize=(12, 4))\\n    librosa.display.specshow(delta2_mfcc[ : ,int(delta2_mfcc.shape[1]*0.025) :int(delta2_mfcc.shape[1]*0.030)])\\n    plt.ylabel('MFCC coeffs')\\n    plt.xlabel('Time')\\n    plt.title('MFCC'+path)\\n    plt.colorbar()\\n    plt.tight_layout()\\n    print(delta2_mfcc.shape , sample_rate,int(delta2_mfcc.shape[1]*0.01))\\n\""
      ]
     },
     "execution_count": 20,
     "metadata": {},
     "output_type": "execute_result"
    }
   ],
   "source": [
    "'''\n",
    "mfcc_combine = []\n",
    "for sample,path,sample_rate in combine:\n",
    "    S = librosa.feature.melspectrogram(sample, sr=sample_rate, n_mels=128)\n",
    "    # Convert to log scale (dB). We'll use the peak power (max) as reference.\n",
    "    log_S = librosa.power_to_db(S, ref=np.max)\n",
    "    mfcc = librosa.feature.mfcc(S=log_S, n_mfcc=13)\n",
    "\n",
    "    # Let's pad on the first and second deltas while we're at it\n",
    "    delta2_mfcc = librosa.feature.delta(mfcc, order=2)\n",
    "    mfcc_combine.append(delta2_mfcc)\n",
    "    \n",
    "    plt.figure(figsize=(12, 4))\n",
    "    librosa.display.specshow(delta2_mfcc[ : ,int(delta2_mfcc.shape[1]*0.025) :int(delta2_mfcc.shape[1]*0.030)])\n",
    "    plt.ylabel('MFCC coeffs')\n",
    "    plt.xlabel('Time')\n",
    "    plt.title('MFCC'+path)\n",
    "    plt.colorbar()\n",
    "    plt.tight_layout()\n",
    "    print(delta2_mfcc.shape , sample_rate,int(delta2_mfcc.shape[1]*0.01))\n",
    "'''"
   ]
  },
  {
   "cell_type": "code",
   "execution_count": 21,
   "metadata": {},
   "outputs": [
    {
     "data": {
      "text/plain": [
       "\"\\nfor sample,path,sample_rate in combine_prev:\\n    S = librosa.feature.melspectrogram(sample, sr=sample_rate, n_mels=128)\\n    # Convert to log scale (dB). We'll use the peak power (max) as reference.\\n    log_S = librosa.power_to_db(S, ref=np.max)\\n    mfcc = librosa.feature.mfcc(S=log_S, n_mfcc=13)\\n\\n    # Let's pad on the first and second deltas while we're at it\\n    delta2_mfcc = librosa.feature.delta(mfcc, order=2)\\n    \\n    plt.figure(figsize=(12, 4))\\n    librosa.display.specshow(delta2_mfcc[ : ,int(delta2_mfcc.shape[1]*0.025) :int(delta2_mfcc.shape[1]*0.030)])\\n    plt.ylabel('MFCC coeffs')\\n    plt.xlabel('Time')\\n    plt.title('MFCC'+path)\\n    plt.colorbar()\\n    plt.tight_layout()\\n    print(delta2_mfcc.shape , sample_rate,int(delta2_mfcc.shape[1]*0.01))\\n\""
      ]
     },
     "execution_count": 21,
     "metadata": {},
     "output_type": "execute_result"
    }
   ],
   "source": [
    "'''\n",
    "for sample,path,sample_rate in combine_prev:\n",
    "    S = librosa.feature.melspectrogram(sample, sr=sample_rate, n_mels=128)\n",
    "    # Convert to log scale (dB). We'll use the peak power (max) as reference.\n",
    "    log_S = librosa.power_to_db(S, ref=np.max)\n",
    "    mfcc = librosa.feature.mfcc(S=log_S, n_mfcc=13)\n",
    "\n",
    "    # Let's pad on the first and second deltas while we're at it\n",
    "    delta2_mfcc = librosa.feature.delta(mfcc, order=2)\n",
    "    \n",
    "    plt.figure(figsize=(12, 4))\n",
    "    librosa.display.specshow(delta2_mfcc[ : ,int(delta2_mfcc.shape[1]*0.025) :int(delta2_mfcc.shape[1]*0.030)])\n",
    "    plt.ylabel('MFCC coeffs')\n",
    "    plt.xlabel('Time')\n",
    "    plt.title('MFCC'+path)\n",
    "    plt.colorbar()\n",
    "    plt.tight_layout()\n",
    "    print(delta2_mfcc.shape , sample_rate,int(delta2_mfcc.shape[1]*0.01))\n",
    "'''"
   ]
  },
  {
   "cell_type": "markdown",
   "metadata": {},
   "source": [
    "## 5. Features normalization with *mean* and *std*"
   ]
  },
  {
   "cell_type": "code",
   "execution_count": 22,
   "metadata": {},
   "outputs": [
    {
     "name": "stdout",
     "output_type": "stream",
     "text": [
      "[-14.783377 -13.237326 -13.790195 -14.974861 -16.02743  -16.886328\n",
      " -17.562525 -17.916958 -18.162004 -18.151894 -18.028067 -18.147076\n",
      " -18.77185  -19.649254 -20.501747 -21.223238 -21.653889 -21.794428\n",
      " -21.709572 -21.606184 -21.623947 -21.668095 -21.676298 -21.594275\n",
      " -21.55152  -21.501865 -21.437368 -21.418602 -21.42194  -21.493652\n",
      " -21.619452 -21.76638  -21.914585 -22.061201 -22.174974 -22.262684\n",
      " -22.304296 -22.279842 -22.19678  -22.1155   -22.0866   -22.11853\n",
      " -22.190512 -22.277575 -22.391571 -22.531631 -22.667282 -22.776754\n",
      " -22.859852 -22.917439 -22.933397 -22.892088 -22.836386 -22.770657\n",
      " -22.682306 -22.592741 -22.525318 -22.491041 -22.493334 -22.51041\n",
      " -22.531391 -22.552753 -22.568363 -22.573317 -22.576105 -22.577608\n",
      " -22.586645 -22.585169 -22.57003  -22.571081 -22.589912 -22.610256\n",
      " -22.640768 -22.66337  -22.659088 -22.639498 -22.651543 -22.661533\n",
      " -22.662224 -22.665829 -22.669947 -22.678707 -22.679981 -22.686583\n",
      " -22.695452 -22.702993 -22.712639 -22.720493 -22.724628 -22.72432\n",
      " -22.718729 -22.708414 -22.69681  -22.67777  -22.649416 -22.616545\n",
      " -22.598757 -22.60663  -22.647446 -22.711773 -22.787136 -22.861105\n",
      " -22.917648 -22.937397 -22.933002 -22.924885 -22.907335 -22.877462\n",
      " -22.83971  -22.8005   -22.767406 -22.749939 -22.732487 -22.725475\n",
      " -22.733152 -22.754728 -22.782377 -22.795895 -22.795687 -22.772947\n",
      " -22.729353 -22.67697  -22.631699 -22.597982 -22.56586  -22.543722\n",
      " -22.570208 -22.652233 -22.746101 -22.813856 -22.850334 -22.861965\n",
      " -22.861008 -22.868464 -22.885672 -22.898153 -22.897245 -22.877733\n",
      " -22.839855 -22.801607 -22.76745  -22.739597 -22.718195 -22.71456\n",
      " -22.720951 -22.739452 -22.76989  -22.811838 -22.852034 -22.874447\n",
      " -22.878803 -22.876732 -22.884365 -22.913334 -22.94687  -22.956758\n",
      " -22.935646 -22.900852 -22.868765 -22.787466 -22.727154 -22.772894\n",
      " -22.84893  -22.844439 -22.854656 -22.883999 -22.890759 -22.899868\n",
      " -22.914345 -22.91578  -22.900122 -22.88678  -22.871445 -22.855877\n",
      " -22.84111  -22.824024 -22.806616 -22.799501 -22.803118 -22.812809\n",
      " -22.821775 -22.821173 -22.825565 -22.85911  -22.886137 -22.90605\n",
      " -22.921818 -22.931646 -22.931229 -22.92181  -22.904165 -22.884459\n",
      " -22.868515 -22.859247 -22.86025  -22.872932 -22.887794 -22.906029\n",
      " -22.92077  -22.930868 -22.935316 -22.93798  -22.93461  -22.92851\n",
      " -22.922318 -22.920044 -22.916937 -22.913671 -22.912489 -22.914454\n",
      " -22.921728 -22.929087 -22.932058 -22.933502 -22.933773 -22.93472\n",
      " -22.933907 -22.93065  -22.927143 -22.923285 -22.922127 -22.923252\n",
      " -22.922367 -22.91622  -22.908096 -22.907076 -22.90907  -22.910065\n",
      " -22.909199 -22.90573  -22.90481  -22.907679 -22.916796 -22.93004\n",
      " -22.944153 -22.95197  -22.95433  -22.953682 -22.95485  -22.957397\n",
      " -22.959705 -22.963903 -22.968245 -22.972136 -22.975351 -22.979086\n",
      " -22.981977 -22.984642 -22.988213 -22.989283 -22.987679 -22.987446\n",
      " -22.987782 -22.988325 -22.988543 -22.988716 -22.988766 -22.988487\n",
      " -22.988947 -22.990583 -22.992424 -22.993124 -22.99193  -22.989697\n",
      " -22.987059 -22.984444 -22.983189 -22.98261  -22.982454 -22.98259\n",
      " -22.983397 -22.984707 -22.985338 -22.986172 -22.985075 -22.983002\n",
      " -22.98106  -22.978962 -22.977383 -22.975937 -22.974495 -22.973032\n",
      " -22.971476 -22.970343 -22.970171 -22.968557 -22.965145 -22.963015\n",
      " -22.96039  -22.958038 -22.958715 -22.961206 -22.96509  -22.969172\n",
      " -22.97266  -22.97632  -22.979383 -22.982035 -22.983076 -22.983547\n",
      " -22.98381  -22.98372  -22.984537 -22.98386  -22.982084 -22.981379\n",
      " -22.980074 -22.978933 -22.979002 -22.979841 -22.981634 -22.983324\n",
      " -22.982786 -22.98292  -22.983932 -22.984701 -22.98592  -22.985903\n",
      " -22.986952 -22.989283 -22.988464 -22.985666 -22.987549 -22.987854\n",
      " -22.985933 -22.986927 -22.988256 -22.987724 -22.988724 -22.990913\n",
      " -22.99223  -22.991837 -22.990381 -22.987143 -22.983053 -22.980148\n",
      " -22.979261 -22.97898  -22.981407 -22.983086 -22.984442 -22.986027\n",
      " -22.986786 -22.986406 -22.985294 -22.984926 -22.985313 -22.98613\n",
      " -22.986982 -22.987394 -22.988466 -22.989521 -22.9903   -22.990376\n",
      " -22.989925 -22.989882 -22.990326 -22.991663 -22.993698 -22.995625\n",
      " -22.997086 -22.996712 -22.995775 -22.995258 -22.995176 -22.995615\n",
      " -22.995329 -22.99538  -22.995525 -22.996075 -22.99651  -22.997171\n",
      " -22.997265 -22.99596  -22.994333 -22.992758 -22.991907 -22.991514\n",
      " -22.99224  -22.992758 -22.992975 -22.99286  -22.993502 -22.9941\n",
      " -22.993883 -22.992516 -22.991297 -22.991405 -22.99225  -22.993404\n",
      " -22.994888 -22.996365 -22.996958 -22.997095 -22.997414 -22.997623\n",
      " -22.997929 -22.997568 -22.996925 -22.997242 -22.997967 -22.998867\n",
      " -22.99974  -23.00059  -23.00168  -23.002335 -23.002089 -23.002037\n",
      " -23.002443 -23.00299  -23.003393 -23.00391  -23.003994 -23.003595\n",
      " -23.003153 -23.00286  -23.002853 -23.002893 -23.00264  -23.00243\n",
      " -23.002567 -23.00246  -23.002684 -23.002813 -23.002657 -23.001993\n",
      " -23.001888 -23.001848 -23.002064 -23.002432 -23.002638 -23.002466\n",
      " -23.002146 -23.001432 -23.000465 -23.000097 -22.999918 -22.999924\n",
      " -23.000008 -23.000109 -22.99968  -23.004023] [2.7799044  2.2518497  2.3997333  2.765997   3.0183187  3.1149433\n",
      " 3.0882137  2.924064   2.7393427  2.4889443  2.2969978  2.2466404\n",
      " 2.2920141  2.3431325  2.3437335  2.345262   2.2665522  2.0904834\n",
      " 1.9093661  1.7779971  1.666892   1.5737686  1.4854817  1.4256921\n",
      " 1.3641286  1.3130599  1.3044854  1.3042636  1.2753052  1.224342\n",
      " 1.196009   1.1738738  1.114851   1.0279031  0.9805345  0.93841517\n",
      " 0.90233254 0.90325254 0.95475674 1.015292   1.0449505  1.0279045\n",
      " 1.0000321  0.9668303  0.9049316  0.8137104  0.71688193 0.6197529\n",
      " 0.51657325 0.4239147  0.39488444 0.43341348 0.4976596  0.565523\n",
      " 0.679921   0.8041894  0.90896744 0.97682196 1.0130651  1.0242807\n",
      " 1.0192962  0.9946142  0.9808452  0.97567314 0.96431494 0.9585019\n",
      " 0.9256341  0.9021467  0.90914536 0.91014844 0.88918185 0.87306523\n",
      " 0.8422695  0.82199895 0.8364461  0.88278615 0.87392044 0.8675611\n",
      " 0.87587076 0.87173784 0.86397296 0.8440012  0.84300566 0.8339906\n",
      " 0.8205608  0.8092554  0.7943401  0.7860871  0.77599066 0.77209604\n",
      " 0.7773541  0.7982352  0.8183124  0.8550559  0.90648705 0.96332437\n",
      " 0.98592037 0.96408075 0.8861592  0.76486385 0.61680055 0.45049423\n",
      " 0.3134125  0.2711929  0.2784125  0.29177812 0.32870442 0.4060714\n",
      " 0.5069883  0.59604603 0.6651163  0.70403624 0.7403075  0.75247025\n",
      " 0.73131096 0.6929234  0.648397   0.6327052  0.6480621  0.70240235\n",
      " 0.7891783  0.8899223  0.97268003 1.0293754  1.0827814  1.1167102\n",
      " 1.0729805  0.92979765 0.7446913  0.59471506 0.49996373 0.46630946\n",
      " 0.4657696  0.45377907 0.41620827 0.38878942 0.40382475 0.47374886\n",
      " 0.57921296 0.6760658  0.7599244  0.8170057  0.8576245  0.85816574\n",
      " 0.8336335  0.7807158  0.70408136 0.60073364 0.499933   0.42939907\n",
      " 0.39801723 0.39199194 0.37422732 0.30929106 0.23818147 0.22396258\n",
      " 0.271525   0.36129358 0.43382335 0.66812295 0.88230836 0.7745189\n",
      " 0.5212928  0.5399125  0.52265686 0.46050644 0.4377706  0.39896303\n",
      " 0.3531276  0.3383179  0.3686505  0.4083585  0.44929838 0.48811173\n",
      " 0.5312702  0.5719975  0.60828227 0.6263315  0.619583   0.6021816\n",
      " 0.5865137  0.57860136 0.5603803  0.4890835  0.43250078 0.38344657\n",
      " 0.35103655 0.32841226 0.33116418 0.36203542 0.4128511  0.46506467\n",
      " 0.5033821  0.5258492  0.5196557  0.48074862 0.43776557 0.38584745\n",
      " 0.34305102 0.30849567 0.2924234  0.289647   0.31296772 0.34269938\n",
      " 0.37187356 0.38474187 0.4050762  0.42257476 0.42594042 0.42232203\n",
      " 0.40312633 0.3850096  0.38421378 0.38438857 0.38642767 0.38041145\n",
      " 0.3765733  0.38410252 0.3886915  0.39511245 0.39568916 0.39305636\n",
      " 0.4011105  0.43038124 0.45612508 0.4525576  0.44124082 0.43056837\n",
      " 0.43034866 0.44289535 0.44782603 0.44145444 0.4163802  0.37715214\n",
      " 0.33302012 0.30558407 0.29710743 0.29260483 0.28018332 0.26706487\n",
      " 0.2577828  0.24154632 0.22788188 0.21665548 0.2079905  0.19552642\n",
      " 0.18069379 0.16770008 0.15264392 0.15174136 0.15931818 0.16696079\n",
      " 0.17056692 0.168334   0.16487378 0.1589255  0.15290338 0.15201549\n",
      " 0.15055647 0.14557418 0.13936657 0.13347699 0.13462503 0.14546981\n",
      " 0.15365125 0.16439845 0.17015766 0.17668906 0.18092126 0.18119265\n",
      " 0.17814797 0.17205684 0.17112395 0.16715406 0.169962   0.17277135\n",
      " 0.1826451  0.19507547 0.20521255 0.21557839 0.22700348 0.23658162\n",
      " 0.24630573 0.2516777  0.2521881  0.261558   0.27698353 0.2858417\n",
      " 0.2962533  0.3051284  0.30228236 0.28908956 0.27141234 0.25667244\n",
      " 0.24043988 0.22549538 0.21278504 0.20088865 0.19708274 0.19601703\n",
      " 0.19251296 0.19505613 0.18802153 0.19059458 0.19491416 0.1949775\n",
      " 0.20358926 0.20977013 0.20991024 0.20520969 0.19508782 0.18568559\n",
      " 0.18613043 0.18380944 0.17427634 0.17143728 0.16163504 0.15578528\n",
      " 0.15064374 0.14396822 0.14908543 0.15728073 0.15408856 0.15367147\n",
      " 0.15443373 0.15308675 0.15114638 0.15501963 0.1519013  0.14541698\n",
      " 0.13958043 0.1434588  0.15009822 0.16330145 0.17712437 0.19024442\n",
      " 0.19089097 0.18976757 0.18080178 0.17583604 0.17336294 0.169572\n",
      " 0.16826543 0.17075449 0.1752788  0.17784378 0.1784031  0.17658791\n",
      " 0.17362073 0.17212935 0.16606773 0.16242288 0.1581523  0.15384078\n",
      " 0.15547508 0.15757653 0.15696931 0.1519787  0.1426359  0.13562536\n",
      " 0.13195904 0.13701475 0.13913932 0.13356605 0.1389323  0.13932408\n",
      " 0.13919784 0.13725774 0.13516982 0.12882586 0.131292   0.1258525\n",
      " 0.12526786 0.12945405 0.13511638 0.14123586 0.14506042 0.14557454\n",
      " 0.1446156  0.14408654 0.14241593 0.14598367 0.14461114 0.1403204\n",
      " 0.14198804 0.14484303 0.14689304 0.14285044 0.1387165  0.13716415\n",
      " 0.13605642 0.13157101 0.12796356 0.12762976 0.12960872 0.12983276\n",
      " 0.12802118 0.1267258  0.128712   0.12625393 0.12150643 0.11936492\n",
      " 0.11986353 0.12173422 0.11702938 0.11278855 0.11181077 0.11205273\n",
      " 0.11221401 0.11486915 0.11269482 0.10699861 0.10837501 0.11332007\n",
      " 0.11362135 0.1117058  0.11412349 0.11527206 0.11689709 0.11736302\n",
      " 0.11520851 0.1156356  0.11713438 0.11814096 0.11484227 0.10983244\n",
      " 0.1117791  0.11362042 0.11355007 0.11077738 0.11128705 0.11141058\n",
      " 0.11119606 0.11603655 0.11918227 0.11839555 0.11627687 0.11620039\n",
      " 0.11410032 0.10730807 0.11058003 0.08411979]\n"
     ]
    }
   ],
   "source": [
    "spectrogram1 = spectro_combine[0][2]\n",
    "spectrogram2 = spectro_combine[1][2]\n",
    "spec = np.vstack((spectrogram1,spectrogram2))\n",
    "\n",
    "mean = np.mean(spec, axis=0)\n",
    "std = np.std(spec, axis=0)\n",
    "spectro_combine[0][2] = (spectro_combine[0][2] - mean) / std\n",
    "spectro_combine[1][2] = (spectro_combine[1][2] - mean) / std\n",
    "print(mean, std)"
   ]
  },
  {
   "cell_type": "markdown",
   "metadata": {},
   "source": [
    "## 6. Stacking of a given number of frames to get temporal information"
   ]
  },
  {
   "cell_type": "code",
   "execution_count": 23,
   "metadata": {},
   "outputs": [
    {
     "name": "stdout",
     "output_type": "stream",
     "text": [
      "(22067,)\n",
      "(42129,)\n"
     ]
    }
   ],
   "source": [
    "# or should we give one label to one chunk?\n",
    "y_uav = np.ones(shape = [len(spectro_combine[0][1])], dtype=int)\n",
    "y_none =np.zeros(shape =[len(spectro_combine[1][1])], dtype=int)\n",
    "\n",
    "print(y_uav.shape)\n",
    "print(y_none.shape)"
   ]
  },
  {
   "cell_type": "code",
   "execution_count": 24,
   "metadata": {
    "scrolled": true
   },
   "outputs": [
    {
     "name": "stdout",
     "output_type": "stream",
     "text": [
      "(64196, 442) (64196,)\n"
     ]
    }
   ],
   "source": [
    "dataX = np.vstack((spectro_combine[0][2], spectro_combine[1][2]))\n",
    "dataY = np.hstack((y_uav, y_none))\n",
    "print(dataX.shape, dataY.shape)"
   ]
  },
  {
   "cell_type": "code",
   "execution_count": 25,
   "metadata": {},
   "outputs": [
    {
     "name": "stdout",
     "output_type": "stream",
     "text": [
      "(64188, 9, 442) (64188,)\n"
     ]
    }
   ],
   "source": [
    "seq_length = 9 #layer\n",
    "X_hot_list= []\n",
    "#Y_hot = dataY[seq_length-1:].reshape(len(dataY[seq_length-1:]), 1)\n",
    "Y_hot_tmp = dataY[seq_length-1:]\n",
    "\n",
    "for i in range(0, dataX.shape[0] - seq_length+1):\n",
    "    _x = dataX[i:i + seq_length]\n",
    "    #if i<10:\n",
    "        #print(_x, \"->\", Y_hot_tmp[i])\n",
    "    X_hot_list.append(_x)\n",
    "\n",
    "X_hot = np.array(X_hot_list[:])\n",
    "print(X_hot.shape, Y_hot_tmp.shape)\n"
   ]
  },
  {
   "cell_type": "code",
   "execution_count": 26,
   "metadata": {},
   "outputs": [
    {
     "data": {
      "text/plain": [
       "(64188,)"
      ]
     },
     "execution_count": 26,
     "metadata": {},
     "output_type": "execute_result"
    }
   ],
   "source": [
    "Y_hot_tmp.shape"
   ]
  },
  {
   "cell_type": "code",
   "execution_count": 27,
   "metadata": {},
   "outputs": [
    {
     "name": "stdout",
     "output_type": "stream",
     "text": [
      "(64188, 1)\n"
     ]
    }
   ],
   "source": [
    "Y_hot = Y_hot_tmp.reshape((len(Y_hot_tmp),1))\n",
    "print(Y_hot.shape)"
   ]
  },
  {
   "cell_type": "code",
   "execution_count": 28,
   "metadata": {},
   "outputs": [],
   "source": [
    "from sklearn import model_selection\n",
    "train_size = int(len(Y_hot) * 0.7)\n",
    "test_size = len(Y_hot) - train_size\n",
    "X_train, X_test = np.array(X_hot[0:train_size]),np.array(X_hot[train_size:len(X_hot)])\n",
    "y_train, y_test = np.array(Y_hot[0:train_size]),np.array(Y_hot[train_size:len(Y_hot)])\n",
    "#X_train, X_test, y_train, y_test = model_selection.train_test_split(X_hot, Y_hot, test_size=0.2, random_state=42)"
   ]
  },
  {
   "cell_type": "code",
   "execution_count": 29,
   "metadata": {},
   "outputs": [
    {
     "name": "stdout",
     "output_type": "stream",
     "text": [
      "(44931, 9, 442) (19257, 9, 442)\n",
      "(44931, 1) (19257, 1)\n"
     ]
    }
   ],
   "source": [
    "print(X_train.shape, X_test.shape)\n",
    "print(y_train.shape, y_test.shape)"
   ]
  },
  {
   "cell_type": "code",
   "execution_count": 30,
   "metadata": {},
   "outputs": [
    {
     "data": {
      "text/plain": [
       "\"\\nnp.save('../data/Xy/X_train2', X_train)\\nnp.save('../data/Xy/X_test2', X_test)\\nnp.save('../data/Xy/y_train2', y_train)\\nnp.save('../data/Xy/y_test2', y_test)\\n\""
      ]
     },
     "execution_count": 30,
     "metadata": {},
     "output_type": "execute_result"
    }
   ],
   "source": [
    "np.save('../data/Xy/X_train2', X_train)\n",
    "np.save('../data/Xy/X_test2', X_test)\n",
    "np.save('../data/Xy/y_train2', y_train)\n",
    "np.save('../data/Xy/y_test2', y_test)"
   ]
  },
  {
   "cell_type": "code",
   "execution_count": 31,
   "metadata": {},
   "outputs": [
    {
     "data": {
      "text/plain": [
       "\"\\nX_train = np.load('../data/Xy/X_train2.npy')\\nX_test = np.load('../data/Xy/X_test2.npy')\\ny_train = np.load('../data/Xy/y_train2.npy')\\ny_test = np.load('../data/Xy/y_test2.npy')\\n\""
      ]
     },
     "execution_count": 31,
     "metadata": {},
     "output_type": "execute_result"
    }
   ],
   "source": [
    "X_train = np.load('../data/Xy/X_train2.npy')\n",
    "X_test = np.load('../data/Xy/X_test2.npy')\n",
    "y_train = np.load('../data/Xy/y_train2.npy')\n",
    "y_test = np.load('../data/Xy/y_test2.npy')"
   ]
  },
  {
   "cell_type": "markdown",
   "metadata": {},
   "source": [
    "# Tensorflow RNN"
   ]
  },
  {
   "cell_type": "markdown",
   "metadata": {},
   "source": [
    "## Train "
   ]
  },
  {
   "cell_type": "code",
   "execution_count": 32,
   "metadata": {},
   "outputs": [],
   "source": [
    "learning_rate = 0.01\n",
    "\n",
    "# train Parameters\n",
    "X_dim = 442 #n_dim #X_hot.shape[2]\n",
    "\n",
    "#seq_length = #X_hot.shape[1]\n",
    "output_dim = 1 #n_classes #Y_hot.shape[1]\n",
    "\n",
    "hidden_dim = 2"
   ]
  },
  {
   "cell_type": "code",
   "execution_count": 33,
   "metadata": {},
   "outputs": [],
   "source": [
    "# input place holders\n",
    "X = tf.placeholder(tf.float32, [None, seq_length, X_dim], name = 'X')\n",
    "Y = tf.placeholder(tf.float32, [None, output_dim], name = 'Y')\n",
    "\n",
    "#X_one_hot = tf.one_hot(X, )\n",
    "# build a LSTM network\n",
    "cell = tf.contrib.rnn.BasicLSTMCell(num_units=hidden_dim, state_is_tuple=True, activation=tf.tanh)\n",
    "#cell = tf.contrib.rnn.MultiRNNCell([cell]*2, state_is_tuple=True)\n",
    "outputs, _states = tf.nn.dynamic_rnn(cell, X, dtype=tf.float32)\n",
    "\n",
    "Y_pred = tf.contrib.layers.fully_connected(\n",
    "    outputs[:, -1], output_dim, activation_fn=None)  # We use the last cell's output\n",
    "\n",
    "# cost/loss\n",
    "loss = tf.reduce_sum(tf.square(Y_pred - Y))  # sum of the squares\n",
    "#loss = tf.reduce_mean(tf.nn.softmax_cross_entropy_with_logits(logits = Y_pred, labels = Y))\n",
    "\n",
    "# optimizer\n",
    "lr = tf.placeholder(tf.float32,shape=(), name='learning_rate')\n",
    "train = tf.train.AdamOptimizer(lr).minimize(loss) #AdamOptimizer\n",
    "\n",
    "# RMSE\n",
    "targets = tf.placeholder(tf.float32, [None, output_dim] , name = 'targets')\n",
    "predictions = tf.placeholder(tf.float32, [None, output_dim] , name = 'predictions')\n",
    "rmse = tf.sqrt(tf.reduce_mean(tf.square(targets - predictions)))"
   ]
  },
  {
   "cell_type": "code",
   "execution_count": 34,
   "metadata": {},
   "outputs": [
    {
     "data": {
      "text/plain": [
       "array([[ 1.5071255 ,  1.1629285 ,  0.22309478, ..., -0.23874724,\n",
       "        -0.22733629, -0.24696735],\n",
       "       [ 1.071844  ,  0.91408926,  0.9089566 , ..., -0.18009135,\n",
       "        -0.2089148 , -0.21966761],\n",
       "       [-2.4098163 ,  0.5119591 ,  1.3657184 , ..., -0.18078455,\n",
       "        -0.21465859, -0.25918874],\n",
       "       ...,\n",
       "       [-0.7270953 ,  0.47982168,  1.3121564 , ...,  0.03224296,\n",
       "        -0.17400368, -0.25839514],\n",
       "       [ 1.4379464 ,  1.2411757 ,  1.1558251 , ..., -0.0938672 ,\n",
       "        -0.15032138, -0.24989232],\n",
       "       [ 0.41018704,  1.2694248 ,  1.8165795 , ..., -0.05716283,\n",
       "        -0.21795307, -0.25565156]], dtype=float32)"
      ]
     },
     "execution_count": 34,
     "metadata": {},
     "output_type": "execute_result"
    }
   ],
   "source": [
    "X_train[0]"
   ]
  },
  {
   "cell_type": "code",
   "execution_count": 43,
   "metadata": {},
   "outputs": [
    {
     "name": "stderr",
     "output_type": "stream",
     "text": [
      "c:\\users\\jh\\anaconda3\\envs\\tensorflow\\lib\\site-packages\\tensorflow\\python\\client\\session.py:1711: UserWarning:\n",
      "\n",
      "An interactive session is already active. This can cause out-of-memory errors in some cases. You must explicitly call `InteractiveSession.close()` to release resources held by the other session(s).\n",
      "\n"
     ]
    },
    {
     "name": "stdout",
     "output_type": "stream",
     "text": [
      "[step: 0] loss: 0.5423646987881419\n",
      "[step: 1] loss: 0.3994923292103448\n",
      "[step: 2] loss: 0.3490249937056264\n",
      "[step: 3] loss: 0.30137184742299306\n",
      "[step: 4] loss: 0.2555622179703323\n",
      "Test accuracy: 0.564\n",
      "[step: 0] loss: 0.21629847623995682\n",
      "[step: 1] loss: 0.18640265768623\n",
      "[step: 2] loss: 0.16039200645851417\n",
      "[step: 3] loss: 0.13760229878522068\n",
      "[step: 4] loss: 0.12200707534539071\n",
      "Test accuracy: 0.688\n",
      "[step: 0] loss: 0.1045491433218435\n",
      "[step: 1] loss: 0.09581949266653313\n",
      "[step: 2] loss: 0.08938268061374663\n",
      "[step: 3] loss: 0.08279175312736474\n",
      "[step: 4] loss: 0.07644634098673522\n",
      "Test accuracy: 0.757\n",
      "[step: 0] loss: 0.07167176736968908\n",
      "[step: 1] loss: 0.06971342603798046\n",
      "[step: 2] loss: 0.0675684650057171\n",
      "[step: 3] loss: 0.06521227514132781\n",
      "[step: 4] loss: 0.06289817998709132\n",
      "Test accuracy: 0.799\n"
     ]
    }
   ],
   "source": [
    "init = tf.global_variables_initializer()\n",
    "sess = tf.InteractiveSession()\n",
    "sess.run(init)\n",
    "cost_history = np.empty(shape=[1],dtype=float)\n",
    "step_loss = 999999.0\n",
    "model_path = '../models/RNN/my_RNN_model_S27_100'\n",
    "saver = tf.train.Saver()\n",
    "training_epochs = 5\n",
    "# Training step\n",
    "for learning_rate in [0.02, 0.015, 0.01, 0.005]:\n",
    "    test_acc = []\n",
    "    feed = {lr:learning_rate, X: X_train, Y: y_train}\n",
    "    for i in range(training_epochs):\n",
    "        step_loss_prev = step_loss\n",
    "        _, step_loss = sess.run([train, loss], feed_dict=feed)\n",
    "        cost_history = np.append(cost_history,step_loss/X_train.shape[0])\n",
    "        \n",
    "        print(\"[step: {}] loss: {}\".format(i, step_loss/X_train.shape[0]))\n",
    "        #batch_acc, test_state = sess.run([loss, _states], feed_dict=feed)\n",
    "    print(\"Test accuracy: {:.3f}\".format(1.0-np.mean(cost_history)))\n",
    "\n",
    "saver.save(sess, model_path)\n",
    "sess.close()"
   ]
  },
  {
   "cell_type": "code",
   "execution_count": 44,
   "metadata": {},
   "outputs": [
    {
     "name": "stdout",
     "output_type": "stream",
     "text": [
      "INFO:tensorflow:Restoring parameters from ../models/RNN/my_RNN_model_S27_100\n"
     ]
    },
    {
     "name": "stderr",
     "output_type": "stream",
     "text": [
      "c:\\users\\jh\\anaconda3\\envs\\tensorflow\\lib\\site-packages\\tensorflow\\python\\client\\session.py:1711: UserWarning:\n",
      "\n",
      "An interactive session is already active. This can cause out-of-memory errors in some cases. You must explicitly call `InteractiveSession.close()` to release resources held by the other session(s).\n",
      "\n"
     ]
    },
    {
     "name": "stdout",
     "output_type": "stream",
     "text": [
      "RMSE: 0.24658635258674622\n",
      "[[0.]\n",
      " [0.]\n",
      " [0.]\n",
      " ...\n",
      " [0.]\n",
      " [0.]\n",
      " [0.]]\n",
      "(19257, 1) (19257, 1)\n"
     ]
    }
   ],
   "source": [
    "sess = tf.InteractiveSession()\n",
    "saver.restore(sess, model_path)\n",
    "\n",
    "# Test step\n",
    "test_predict = sess.run(Y_pred, feed_dict={X: X_train})\n",
    "rmse_val = sess.run(rmse, feed_dict={\n",
    "                    targets: y_train, predictions: test_predict})\n",
    "print(\"RMSE: {}\".format(rmse_val))\n",
    "\n",
    "y_pred = sess.run(Y_pred,feed_dict={X: X_test})\n",
    "y_pred[y_pred<0.5] = 0\n",
    "y_pred[y_pred>=0.5] = 1\n",
    "print(y_pred)\n",
    "y_true = y_test\n",
    "print(y_pred.shape, y_true.shape)"
   ]
  },
  {
   "cell_type": "code",
   "execution_count": 45,
   "metadata": {},
   "outputs": [],
   "source": [
    "sess.close()"
   ]
  },
  {
   "cell_type": "code",
   "execution_count": 46,
   "metadata": {
    "scrolled": false
   },
   "outputs": [
    {
     "data": {
      "image/png": "[encoded data removed]",
      "text/plain": [
       "<Figure size 720x576 with 1 Axes>"
      ]
     },
     "metadata": {},
     "output_type": "display_data"
    },
    {
     "name": "stdout",
     "output_type": "stream",
     "text": [
      "F-Score: 0.966\n",
      "Accuracy:  0.9664537570753492\n",
      "             precision    recall  f1-score   support\n",
      "\n",
      "        0.0       1.00      0.97      0.98     19257\n",
      "        1.0       0.00      0.00      0.00         0\n",
      "\n",
      "avg / total       1.00      0.97      0.98     19257\n",
      "\n",
      "[[18611   646]\n",
      " [    0     0]]\n"
     ]
    },
    {
     "name": "stderr",
     "output_type": "stream",
     "text": [
      "c:\\users\\jh\\anaconda3\\envs\\tensorflow\\lib\\site-packages\\sklearn\\metrics\\classification.py:1137: UndefinedMetricWarning:\n",
      "\n",
      "Recall and F-score are ill-defined and being set to 0.0 in labels with no true samples.\n",
      "\n"
     ]
    }
   ],
   "source": [
    "from sklearn.metrics import precision_recall_fscore_support\n",
    "from sklearn.metrics import accuracy_score\n",
    "from sklearn.metrics import classification_report\n",
    "from sklearn.metrics import confusion_matrix\n",
    "\n",
    "fig = plt.figure(figsize=(10,8))\n",
    "plt.plot(cost_history)\n",
    "plt.ylabel(\"Cost\")\n",
    "plt.xlabel(\"Iterations\") \n",
    "plt.axis([0,len(cost_history),0,np.max(cost_history)])\n",
    "plt.show()\n",
    "\n",
    "\n",
    "p,r,f,s = precision_recall_fscore_support(y_true, y_pred, average='micro')\n",
    "print(\"F-Score:\", round(f,3))\n",
    "print(\"Accuracy: \", accuracy_score(y_true, y_pred))\n",
    "\n",
    "print(classification_report(y_true, y_pred))\n",
    "print(confusion_matrix(y_true, y_pred))"
   ]
  },
  {
   "cell_type": "code",
   "execution_count": 57,
   "metadata": {},
   "outputs": [
    {
     "name": "stderr",
     "output_type": "stream",
     "text": [
      "c:\\users\\jh\\anaconda3\\envs\\tensorflow\\lib\\site-packages\\tensorflow\\python\\client\\session.py:1711: UserWarning:\n",
      "\n",
      "An interactive session is already active. This can cause out-of-memory errors in some cases. You must explicitly call `InteractiveSession.close()` to release resources held by the other session(s).\n",
      "\n"
     ]
    },
    {
     "name": "stdout",
     "output_type": "stream",
     "text": [
      "INFO:tensorflow:Restoring parameters from ../models/RNN/my_RNN_model_S27_100\n",
      "(884736,)\n",
      "[[-0.19874434]\n",
      " [-0.1820588 ]\n",
      " [-0.22107337]\n",
      " [-0.23213114]\n",
      " [-0.19042076]\n",
      " [-0.19987555]\n",
      " [-0.14351536]\n",
      " [-0.20154403]\n",
      " [-0.09366311]\n",
      " [-0.17167519]]\n",
      "F-Score: 0.954\n",
      "Accuracy:  0.9539308963445168\n",
      "             precision    recall  f1-score   support\n",
      "\n",
      "        0.0       1.00      0.95      0.98      1997\n",
      "        1.0       0.00      0.00      0.00         0\n",
      "\n",
      "avg / total       1.00      0.95      0.98      1997\n",
      "\n",
      "[[1905   92]\n",
      " [   0    0]]\n"
     ]
    },
    {
     "name": "stderr",
     "output_type": "stream",
     "text": [
      "c:\\users\\jh\\anaconda3\\envs\\tensorflow\\lib\\site-packages\\sklearn\\metrics\\classification.py:1137: UndefinedMetricWarning:\n",
      "\n",
      "Recall and F-score are ill-defined and being set to 0.0 in labels with no true samples.\n",
      "\n"
     ]
    }
   ],
   "source": [
    "model_path_f = '../models/RNN/'\n",
    "filename = 'my_RNN_model_S27_100.meta'\n",
    "\n",
    "\n",
    "sess = tf.InteractiveSession()\n",
    "sess.run(tf.global_variables_initializer())\n",
    "loader = tf.train.import_meta_graph(model_path_f+filename)\n",
    "loader.restore(sess, tf.train.latest_checkpoint(model_path_f))\n",
    "\n",
    "SR = 44100\n",
    "####\n",
    "justone = True\n",
    "while(justone):\n",
    "    justone = False\n",
    "    #print(\"start to record the audio.\")\n",
    "    '''\n",
    "    frames = []\n",
    "    for i in range(0, int(RATE / CHUNK * RECORD_SECONDS)):\n",
    "        data = stream.read(CHUNK)\n",
    "        frames.append(data)\n",
    "    #print(\"Recording finished.\")\n",
    "    stream.stop_stream()\n",
    "    stream.close()\n",
    "\n",
    "    p.terminate()\n",
    "\n",
    "    wf = wave.open(WAVE_OUTPUT_FILENAME, 'wb')\n",
    "    wf.setnchannels(CHANNELS)\n",
    "    wf.setsampwidth(p.get_sample_size(FORMAT))\n",
    "    wf.setframerate(RATE)\n",
    "    wf.writeframes(b''.join(frames))\n",
    "    wf.close()\n",
    "    '''\n",
    "    ####\n",
    "    filename1 = '../data/phantom/JUNE_01_PHANTOMS/wavs/purdue_P2_unloaded_up_down.wav'\n",
    "    filename2 = '../data/phantom/JUNE_02_BACKGROUND/wavs/background/background_06_02_11.wav'\n",
    "    \n",
    "    sample, sample_rate = librosa.load(filename2,SR)\n",
    "    print(sample.shape)\n",
    "    \n",
    "    \n",
    "    freqs, times, spectrogram = log_specgram(sample, sample_rate)    \n",
    "\n",
    "    spectrogram = (spectrogram - mean) / std\n",
    "    \n",
    "    dataX = spectrogram\n",
    "    #print(dataX.shape)\n",
    "    #print('delta shape:',dataX.shape)\n",
    "\n",
    "    X_hot_list= []\n",
    "    #print(dataX.shape[0] - seq_length+1)\n",
    "    for i in range(0, dataX.shape[0] - seq_length+1):\n",
    "        _x = dataX[i:i + seq_length]\n",
    "        X_hot_list.append(_x)\n",
    "    X_hot = np.array(X_hot_list[:])\n",
    "    #print(X_hot[0])\n",
    "    #print('\\n\\n\\n')\n",
    "    y_pred = sess.run(Y_pred,feed_dict={X: X_hot})\n",
    "    #y_pred[y_pred<0.5] = 0\n",
    "    #y_pred[y_pred>=0.5] = 1\n",
    "    print(y_pred[:10] )\n",
    "    y_true = np.zeros(shape=[y_pred.shape[0]])\n",
    "    y_pred[y_pred<0.5] = 0\n",
    "    y_pred[y_pred>=0.5] = 1\n",
    "    \n",
    "    p,r,f,s = precision_recall_fscore_support(y_true, y_pred, average='micro')\n",
    "    print(\"F-Score:\", round(f,3))\n",
    "    print(\"Accuracy: \", accuracy_score(y_true, y_pred))\n",
    "\n",
    "    print(classification_report(y_true, y_pred))\n",
    "    print(confusion_matrix(y_true, y_pred))\n",
    "\n",
    "    '''\n",
    "    if y_pred[0] == 1:\n",
    "        print('The sound is Drone')\n",
    "    else :\n",
    "        print('THe sound isn\\'t Drone')\n",
    "    '''\n",
    "\n",
    "sess.close()"
   ]
  },
  {
   "cell_type": "code",
   "execution_count": null,
   "metadata": {},
   "outputs": [],
   "source": []
  }
 ],
 "metadata": {
  "kernelspec": {
   "display_name": "Python 3",
   "language": "python",
   "name": "python3"
  },
  "language_info": {
   "codemirror_mode": {
    "name": "ipython",
    "version": 3
   },
   "file_extension": ".py",
   "mimetype": "text/x-python",
   "name": "python",
   "nbconvert_exporter": "python",
   "pygments_lexer": "ipython3",
   "version": "3.5.4"
  }
 },
 "nbformat": 4,
 "nbformat_minor": 2
}
